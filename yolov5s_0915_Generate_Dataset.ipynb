{
 "cells": [
  {
   "cell_type": "code",
   "execution_count": 5,
   "id": "bf99b7a6",
   "metadata": {},
   "outputs": [
    {
     "name": "stdout",
     "output_type": "stream",
     "text": [
      "/home/cfds031\n"
     ]
    }
   ],
   "source": [
    "%cd /home/cfds031\n",
    "%rm -rf content\n",
    "%mkdir content"
   ]
  },
  {
   "cell_type": "markdown",
   "id": "aaf1b2d0",
   "metadata": {},
   "source": [
    "### Dataset by roboflow\n",
    "\n",
    "---\n",
    "\n",
    "#### 1. cigarette\n",
    "\n",
    "---\n",
    "\n",
    "1. https://universe.roboflow.com/smoke-tamtu/cigarette-6ubdv/dataset/4\n",
    "\n",
    "```\n",
    "!pip install roboflow\n",
    "\n",
    "from roboflow import Roboflow\n",
    "rf = Roboflow(api_key=\"bXipzREfIA5Le8E1tKpO\")\n",
    "project = rf.workspace(\"smoke-tamtu\").project(\"cigarette-6ubdv\")\n",
    "dataset = project.version(4).download(\"yolov5\")\n",
    "```\n",
    "\n",
    "2. https://universe.roboflow.com/new-workspace-6esfg/cigarettes-asa8l/browse?queryText=&pageSize=50&startingIndex=0&browseQuery=true\n",
    "\n",
    "\n",
    "```\n",
    "!pip install roboflow\n",
    "\n",
    "from roboflow import Roboflow\n",
    "rf = Roboflow(api_key=\"bXipzREfIA5Le8E1tKpO\")\n",
    "project = rf.workspace(\"new-workspace-6esfg\").project(\"cigarettes-asa8l\")\n",
    "dataset = project.version(3).download(\"yolov5\")\n",
    "```\n",
    "\n",
    "3. https://universe.roboflow.com/-9kcqc/sigarette/browse?queryText=&pageSize=50&startingIndex=50&browseQuery=true\n",
    "\n",
    "\n",
    "\n",
    "```\n",
    "!pip install roboflow\n",
    "\n",
    "from roboflow import Roboflow\n",
    "rf = Roboflow(api_key=\"bXipzREfIA5Le8E1tKpO\")\n",
    "project = rf.workspace(\"-9kcqc\").project(\"sigarette\")\n",
    "dataset = project.version(1).download(\"yolov5\")\n",
    "```\n",
    "\n",
    "4. https://universe.roboflow.com/new-workspace-8tfgz/cigarettes-detection-4xvub/dataset/13\n",
    "\n",
    ">**test->valid**\n",
    "\n",
    "```\n",
    "!pip install roboflow\n",
    "\n",
    "from roboflow import Roboflow\n",
    "rf = Roboflow(api_key=\"bXipzREfIA5Le8E1tKpO\")\n",
    "project = rf.workspace(\"new-workspace-8tfgz\").project(\"cigarettes-detection-4xvub\")\n",
    "dataset = project.version(13).download(\"yolov5\")\n",
    "```\n",
    "\n",
    "5.https://universe.roboflow.com/daniil-fedoza-gmail-com/cigarettes-detection/dataset/1\n",
    "```\n",
    "!pip install roboflow\n",
    "\n",
    "from roboflow import Roboflow\n",
    "rf = Roboflow(api_key=\"bXipzREfIA5Le8E1tKpO\")\n",
    "project = rf.workspace(\"daniil-fedoza-gmail-com\").project(\"cigarettes-detection\")\n",
    "dataset = project.version(1).download(\"yolov5\")\n",
    "```\n",
    "\n",
    "---\n",
    "\n",
    "#### 2. Face\n",
    "\n",
    "\n",
    "\n",
    "1. #한국인 100장 :https://universe.roboflow.com/oliver-c8nwc/maskdataset-wehht/dataset/7\n",
    "\n",
    "```\n",
    "!pip install roboflow\n",
    "\n",
    "from roboflow import Roboflow\n",
    "rf = Roboflow(api_key=\"26r5AFhrQZjGlNzRvwgG\")\n",
    "project = rf.workspace(\"oliver-c8nwc\").project(\"maskdataset-wehht\")\n",
    "dataset = project.version(7).download(\"yolov5\")\n",
    "```\n",
    "\n",
    "2. #830장 대부분 정면 https://universe.roboflow.com/thanapong-khajontantichaikun/elderly-face-detection2/dataset/10\n",
    "\n",
    "```\n",
    "!pip install roboflow\n",
    "\n",
    "from roboflow import Roboflow\n",
    "rf = Roboflow(api_key=\"26r5AFhrQZjGlNzRvwgG\")\n",
    "project = rf.workspace(\"thanapong-khajontantichaikun\").project(\"elderly-face-detection2\")\n",
    "dataset = project.version(10).download(\"yolov5\")\n",
    "```\n",
    "\n",
    "3. #180장 정도 + occlusion 전부 #5가지 셋 합친것\n",
    "\n",
    "```\n",
    "!pip install roboflow\n",
    "\n",
    "from roboflow import Roboflow\n",
    "rf = Roboflow(api_key=\"26r5AFhrQZjGlNzRvwgG\")\n",
    "project = rf.workspace(\"schoolstudy\").project(\"face-pxggb\")\n",
    "dataset = project.version(2).download(\"yolov5\")\n",
    "```\n",
    "\n",
    "4. #서양인face\n",
    "\n",
    "```\n",
    "!pip install roboflow\n",
    "\n",
    "from roboflow import Roboflow\n",
    "rf = Roboflow(api_key=\"bXipzREfIA5Le8E1tKpO\")\n",
    "project = rf.workspace(\"mohamed-traore-2ekkp\").project(\"face-detection-mik1i\")\n",
    "dataset = project.version(10).download(\"yolov5\"\n",
    "```\n",
    "\n",
    "5. 초대량\n",
    "https://universe.roboflow.com/data-trgdm/finish_final_allready_gameover_finally_fin_win_stop_end/browse?queryText=&pageSize=50&startingIndex=150&browseQuery=true\n",
    "\n",
    "```\n",
    "\n",
    "!pip install roboflow\n",
    "\n",
    "from roboflow import Roboflow\n",
    "rf = Roboflow(api_key=\"bXipzREfIA5Le8E1tKpO\")\n",
    "project = rf.workspace(\"data-trgdm\").project(\"finish_final_allready_gameover_finally_fin_win_stop_end\")\n",
    "dataset = project.version(1).download(\"yolov5\")\n",
    "```\n",
    "\n",
    "6. 다각도 4명\n",
    "```\n",
    "rf = Roboflow(api_key=\"26r5AFhrQZjGlNzRvwgG\")\n",
    "project = rf.workspace(\"minjeong-kim-kzmga\").project(\"kface1\")\n",
    "dataset = project.version(1).download(\"yolov5\")\n",
    "```\n"
   ]
  },
  {
   "cell_type": "code",
   "execution_count": 6,
   "id": "1b410fd4",
   "metadata": {
    "scrolled": true
   },
   "outputs": [
    {
     "name": "stdout",
     "output_type": "stream",
     "text": [
      "Requirement already satisfied: roboflow in ./anaconda/envs/yolov5/lib/python3.10/site-packages (0.2.15)\n",
      "Requirement already satisfied: certifi==2021.5.30 in ./anaconda/envs/yolov5/lib/python3.10/site-packages (from roboflow) (2021.5.30)\n",
      "Requirement already satisfied: python-dotenv in ./anaconda/envs/yolov5/lib/python3.10/site-packages (from roboflow) (0.21.0)\n",
      "Requirement already satisfied: opencv-python-headless>=4.5.1.48 in ./anaconda/envs/yolov5/lib/python3.10/site-packages (from roboflow) (4.6.0.66)\n",
      "Requirement already satisfied: Pillow>=7.1.2 in ./anaconda/envs/yolov5/lib/python3.10/site-packages (from roboflow) (9.2.0)\n",
      "Requirement already satisfied: requests in ./anaconda/envs/yolov5/lib/python3.10/site-packages (from roboflow) (2.28.1)\n",
      "Requirement already satisfied: matplotlib in ./anaconda/envs/yolov5/lib/python3.10/site-packages (from roboflow) (3.5.3)\n",
      "Requirement already satisfied: cycler==0.10.0 in ./anaconda/envs/yolov5/lib/python3.10/site-packages (from roboflow) (0.10.0)\n",
      "Requirement already satisfied: kiwisolver==1.3.1 in ./anaconda/envs/yolov5/lib/python3.10/site-packages (from roboflow) (1.3.1)\n",
      "Requirement already satisfied: PyYAML>=5.3.1 in ./anaconda/envs/yolov5/lib/python3.10/site-packages (from roboflow) (6.0)\n",
      "Requirement already satisfied: glob2 in ./anaconda/envs/yolov5/lib/python3.10/site-packages (from roboflow) (0.7)\n",
      "Requirement already satisfied: pyparsing==2.4.7 in ./anaconda/envs/yolov5/lib/python3.10/site-packages (from roboflow) (2.4.7)\n",
      "Requirement already satisfied: requests-toolbelt in ./anaconda/envs/yolov5/lib/python3.10/site-packages (from roboflow) (0.9.1)\n",
      "Requirement already satisfied: numpy>=1.18.5 in ./anaconda/envs/yolov5/lib/python3.10/site-packages (from roboflow) (1.23.3)\n",
      "Requirement already satisfied: six in ./anaconda/envs/yolov5/lib/python3.10/site-packages (from roboflow) (1.16.0)\n",
      "Requirement already satisfied: chardet==4.0.0 in ./anaconda/envs/yolov5/lib/python3.10/site-packages (from roboflow) (4.0.0)\n",
      "Requirement already satisfied: idna==2.10 in ./anaconda/envs/yolov5/lib/python3.10/site-packages (from roboflow) (2.10)\n",
      "Requirement already satisfied: wget in ./anaconda/envs/yolov5/lib/python3.10/site-packages (from roboflow) (3.2)\n",
      "Requirement already satisfied: python-dateutil in ./anaconda/envs/yolov5/lib/python3.10/site-packages (from roboflow) (2.8.2)\n",
      "Requirement already satisfied: urllib3==1.26.6 in ./anaconda/envs/yolov5/lib/python3.10/site-packages (from roboflow) (1.26.6)\n",
      "Requirement already satisfied: tqdm>=4.41.0 in ./anaconda/envs/yolov5/lib/python3.10/site-packages (from roboflow) (4.64.1)\n",
      "Requirement already satisfied: packaging>=20.0 in ./anaconda/envs/yolov5/lib/python3.10/site-packages (from matplotlib->roboflow) (21.3)\n",
      "Requirement already satisfied: fonttools>=4.22.0 in ./anaconda/envs/yolov5/lib/python3.10/site-packages (from matplotlib->roboflow) (4.37.1)\n",
      "Requirement already satisfied: charset-normalizer<3,>=2 in ./anaconda/envs/yolov5/lib/python3.10/site-packages (from requests->roboflow) (2.0.4)\n",
      "Collecting package metadata (current_repodata.json): done\n",
      "Solving environment: done\n",
      "\n",
      "\n",
      "==> WARNING: A newer version of conda exists. <==\n",
      "  current version: 4.12.0\n",
      "  latest version: 4.14.0\n",
      "\n",
      "Please update conda by running\n",
      "\n",
      "    $ conda update -n base -c defaults conda\n",
      "\n",
      "\n",
      "\n",
      "# All requested packages already installed.\n",
      "\n"
     ]
    }
   ],
   "source": [
    "!pip install roboflow #install roboflow\n",
    "!conda install git --all -y #install git"
   ]
  },
  {
   "cell_type": "code",
   "execution_count": 7,
   "id": "f267ae25",
   "metadata": {},
   "outputs": [],
   "source": [
    "import os\n",
    "import subprocess\n",
    "from roboflow import Roboflow"
   ]
  },
  {
   "cell_type": "code",
   "execution_count": 8,
   "id": "c85ea406",
   "metadata": {},
   "outputs": [],
   "source": [
    "#Define Function\n",
    "from glob import glob\n",
    "\n",
    "def generate_dataset_yolov5():\n",
    "    %cd /home/cfds031/content\n",
    "    %rm -rf dataset\n",
    "    %mkdir dataset\n",
    "    %cd /home/cfds031/content\n",
    "    !git clone https://github.com/ultralytics/yolov5.git\n",
    "    %cd /home/cfds031/content/yolov5\n",
    "    !git reset --hard 3cd66b1c3863a8524c6cc564029c29ac783f7310\n",
    "    !pip install -r requirements.txt\n",
    "    \n",
    "def make_img_txt_and_fix_class(filepath:str,idx:int):\n",
    "    idx=str(idx)\n",
    "\n",
    "    train_img_list=glob(filepath+\"/train/images/*.jpg\")\n",
    "    train_label_list=glob(filepath+\"/train/labels/*.txt\")\n",
    "\n",
    "    val_img_list=glob(filepath+\"/valid/images/*.jpg\")\n",
    "    val_label_list=glob(filepath+\"/valid/labels/*txt\")\n",
    "\n",
    "    print(\"train datas : \",len(train_label_list),len(train_img_list))\n",
    "    print(\"val datas:\",len(val_label_list),len(val_img_list))\n",
    "  \n",
    "    check=0\n",
    "    with open(filepath+\"/train_img.txt\",\"w\") as f:\n",
    "        f.write(\"\\n\".join(train_img_list)+\"\\n\")\n",
    "        check+=1\n",
    "    with open(filepath+\"/val_img.txt\",\"w\") as f:\n",
    "        f.write(\"\\n\".join(val_img_list)+\"\\n\")\n",
    "        check+=1\n",
    "    with open(filepath+\"/train_label.txt\",\"w\") as f:\n",
    "        f.write(\"\\n\".join(train_label_list)+\"\\n\")\n",
    "        check+=1\n",
    "    with open(filepath+\"/val_label.txt\",\"w\") as f:\n",
    "        f.write(\"\\n\".join(val_label_list)+\"\\n\")\n",
    "        check+=1\n",
    "    print(\"generate\",check,\"txt files in\",filepath)\n",
    "  \n",
    "    with open(filepath+\"/val_label.txt\",\"r\") as f:\n",
    "        while True:  \n",
    "            address=f.readline().rstrip()\n",
    "            if not address:\n",
    "                break\n",
    "            newlines=\"\"\n",
    "            with open(address,\"r\") as file:\n",
    "                while True:\n",
    "                    line=file.readline()\n",
    "                    if not line:\n",
    "                        break\n",
    "                    newlines=newlines+idx+line[1:]+\"\\n\"\n",
    "            with open(address,\"w\") as newfile:\n",
    "                newfile.write(newlines.rstrip())\n",
    "  \n",
    "    with open(filepath+\"/train_label.txt\",\"r\") as f:\n",
    "        while True:  \n",
    "            address=f.readline().rstrip()\n",
    "            if not address:\n",
    "                break\n",
    "            newlines=\"\"\n",
    "            with open(address,\"r\") as file:\n",
    "                while True:\n",
    "                    line=file.readline()\n",
    "                    if not line:\n",
    "                        break\n",
    "                    newlines=newlines+idx+line[1:]+\"\\n\"\n",
    "            with open(address,\"w\") as newfile:\n",
    "                newfile.write(newlines.rstrip())\n",
    "                \n",
    "def merge_train_valid_addressfile(filepaths):\n",
    "    global filepath\n",
    "    for i in filepaths:\n",
    "        val=i+\"/val_img.txt\"\n",
    "        train=i+\"/train_img.txt\"\n",
    "        with open(filepath+\"dataset/val_img.txt\",\"a\") as f:\n",
    "            with open(val,\"r\") as onetxt:\n",
    "                newlines=\"\"\n",
    "                while True:\n",
    "                    address=onetxt.readline()\n",
    "                    if not address:\n",
    "                        break\n",
    "                    newlines=newlines+address.rstrip()+\"\\n\"\n",
    "                f.write(newlines)\n",
    "          \n",
    "        with open(filepath+\"dataset/train_img.txt\",\"a\") as f:\n",
    "            with open(train,\"r\") as onetxt:\n",
    "                newlines=\"\"\n",
    "                while True:\n",
    "                    address=onetxt.readline()\n",
    "                    if not address:\n",
    "                        break\n",
    "                    newlines=newlines+address.rstrip()+\"\\n\"\n",
    "                f.write(newlines)"
   ]
  },
  {
   "cell_type": "code",
   "execution_count": 9,
   "id": "60c4f19c",
   "metadata": {},
   "outputs": [
    {
     "name": "stdout",
     "output_type": "stream",
     "text": [
      "filepath : \n",
      "filepath : /home/cfds031/content/\n",
      "/home/cfds031/content\n",
      "loading Roboflow workspace...\n",
      "loading Roboflow project...\n",
      "Downloading Dataset Version Zip in cigarette-4 to yolov5pytorch: 100% [7850394 / 7850394] bytes\n"
     ]
    },
    {
     "name": "stderr",
     "output_type": "stream",
     "text": [
      "Extracting Dataset Version Zip to cigarette-4 in yolov5pytorch:: 100%|██████████| 746/746 [00:00<00:00, 1387.07it/s]\n"
     ]
    },
    {
     "name": "stdout",
     "output_type": "stream",
     "text": [
      "loading Roboflow workspace...\n",
      "loading Roboflow project...\n",
      "Downloading Dataset Version Zip in Cigarettes-3 to yolov5pytorch: 24% [24567808 / 102035857] bytes"
     ]
    },
    {
     "name": "stderr",
     "output_type": "stream",
     "text": [
      "IOPub message rate exceeded.\n",
      "The notebook server will temporarily stop sending output\n",
      "to the client in order to avoid crashing it.\n",
      "To change this limit, set the config variable\n",
      "`--NotebookApp.iopub_msg_rate_limit`.\n",
      "\n",
      "Current values:\n",
      "NotebookApp.iopub_msg_rate_limit=1000.0 (msgs/sec)\n",
      "NotebookApp.rate_limit_window=3.0 (secs)\n",
      "\n"
     ]
    },
    {
     "name": "stdout",
     "output_type": "stream",
     "text": [
      "Downloading Dataset Version Zip in Cigarettes-3 to yolov5pytorch: 73% [75276288 / 102035857] bytes"
     ]
    },
    {
     "name": "stderr",
     "output_type": "stream",
     "text": [
      "IOPub message rate exceeded.\n",
      "The notebook server will temporarily stop sending output\n",
      "to the client in order to avoid crashing it.\n",
      "To change this limit, set the config variable\n",
      "`--NotebookApp.iopub_msg_rate_limit`.\n",
      "\n",
      "Current values:\n",
      "NotebookApp.iopub_msg_rate_limit=1000.0 (msgs/sec)\n",
      "NotebookApp.rate_limit_window=3.0 (secs)\n",
      "\n",
      "Extracting Dataset Version Zip to Cigarettes-3 in yolov5pytorch:: 100%|██████████| 4928/4928 [00:05<00:00, 854.44it/s] \n"
     ]
    },
    {
     "name": "stdout",
     "output_type": "stream",
     "text": [
      "loading Roboflow workspace...\n",
      "loading Roboflow project...\n",
      "Downloading Dataset Version Zip in Sigarette-1 to yolov5pytorch: 24% [24567808 / 98673573] bytes"
     ]
    },
    {
     "name": "stderr",
     "output_type": "stream",
     "text": [
      "IOPub message rate exceeded.\n",
      "The notebook server will temporarily stop sending output\n",
      "to the client in order to avoid crashing it.\n",
      "To change this limit, set the config variable\n",
      "`--NotebookApp.iopub_msg_rate_limit`.\n",
      "\n",
      "Current values:\n",
      "NotebookApp.iopub_msg_rate_limit=1000.0 (msgs/sec)\n",
      "NotebookApp.rate_limit_window=3.0 (secs)\n",
      "\n"
     ]
    },
    {
     "name": "stdout",
     "output_type": "stream",
     "text": [
      "Downloading Dataset Version Zip in Sigarette-1 to yolov5pytorch: 76% [75751424 / 98673573] bytes"
     ]
    },
    {
     "name": "stderr",
     "output_type": "stream",
     "text": [
      "IOPub message rate exceeded.\n",
      "The notebook server will temporarily stop sending output\n",
      "to the client in order to avoid crashing it.\n",
      "To change this limit, set the config variable\n",
      "`--NotebookApp.iopub_msg_rate_limit`.\n",
      "\n",
      "Current values:\n",
      "NotebookApp.iopub_msg_rate_limit=1000.0 (msgs/sec)\n",
      "NotebookApp.rate_limit_window=3.0 (secs)\n",
      "\n",
      "Extracting Dataset Version Zip to Sigarette-1 in yolov5pytorch:: 100%|██████████| 3443/3443 [00:02<00:00, 1200.54it/s]\n"
     ]
    },
    {
     "name": "stdout",
     "output_type": "stream",
     "text": [
      "loading Roboflow workspace...\n",
      "loading Roboflow project...\n",
      "Downloading Dataset Version Zip in Cigarettes-Detection-13 to yolov5pytorch: 35% [24567808 / 70105675] bytes"
     ]
    },
    {
     "name": "stderr",
     "output_type": "stream",
     "text": [
      "IOPub message rate exceeded.\n",
      "The notebook server will temporarily stop sending output\n",
      "to the client in order to avoid crashing it.\n",
      "To change this limit, set the config variable\n",
      "`--NotebookApp.iopub_msg_rate_limit`.\n",
      "\n",
      "Current values:\n",
      "NotebookApp.iopub_msg_rate_limit=1000.0 (msgs/sec)\n",
      "NotebookApp.rate_limit_window=3.0 (secs)\n",
      "\n"
     ]
    },
    {
     "name": "stdout",
     "output_type": "stream",
     "text": [
      "Downloading Dataset Version Zip in Cigarettes-Detection-13 to yolov5pytorch: 100% [70105675 / 70105675] bytes\n"
     ]
    },
    {
     "name": "stderr",
     "output_type": "stream",
     "text": [
      "Extracting Dataset Version Zip to Cigarettes-Detection-13 in yolov5pytorch:: 100%|██████████| 3345/3345 [00:03<00:00, 910.02it/s] \n"
     ]
    },
    {
     "name": "stdout",
     "output_type": "stream",
     "text": [
      "loading Roboflow workspace...\n",
      "loading Roboflow project...\n",
      "Downloading Dataset Version Zip in MaskDataset-7 to yolov5pytorch: 100% [1735217 / 1735217] bytes\n"
     ]
    },
    {
     "name": "stderr",
     "output_type": "stream",
     "text": [
      "Extracting Dataset Version Zip to MaskDataset-7 in yolov5pytorch:: 100%|██████████| 214/214 [00:00<00:00, 1316.75it/s]\n"
     ]
    },
    {
     "name": "stdout",
     "output_type": "stream",
     "text": [
      "loading Roboflow workspace...\n",
      "loading Roboflow project...\n",
      "Downloading Dataset Version Zip in elderly-face-detection2-10 to yolov5pytorch: 100% [10376212 / 10376212] bytes\n"
     ]
    },
    {
     "name": "stderr",
     "output_type": "stream",
     "text": [
      "Extracting Dataset Version Zip to elderly-face-detection2-10 in yolov5pytorch:: 100%|██████████| 1676/1676 [00:01<00:00, 1048.48it/s]\n"
     ]
    },
    {
     "name": "stdout",
     "output_type": "stream",
     "text": [
      "loading Roboflow workspace...\n",
      "loading Roboflow project...\n",
      "Downloading Dataset Version Zip in face-2 to yolov5pytorch: 100% [8598737 / 8598737] bytes\n"
     ]
    },
    {
     "name": "stderr",
     "output_type": "stream",
     "text": [
      "Extracting Dataset Version Zip to face-2 in yolov5pytorch:: 100%|██████████| 1365/1365 [00:00<00:00, 1500.65it/s]\n"
     ]
    },
    {
     "name": "stdout",
     "output_type": "stream",
     "text": [
      "loading Roboflow workspace...\n",
      "loading Roboflow project...\n",
      "Downloading Dataset Version Zip in Face-Detection-10 to yolov5pytorch: 66% [24567808 / 37026300] bytes"
     ]
    },
    {
     "name": "stderr",
     "output_type": "stream",
     "text": [
      "IOPub message rate exceeded.\n",
      "The notebook server will temporarily stop sending output\n",
      "to the client in order to avoid crashing it.\n",
      "To change this limit, set the config variable\n",
      "`--NotebookApp.iopub_msg_rate_limit`.\n",
      "\n",
      "Current values:\n",
      "NotebookApp.iopub_msg_rate_limit=1000.0 (msgs/sec)\n",
      "NotebookApp.rate_limit_window=3.0 (secs)\n",
      "\n",
      "Extracting Dataset Version Zip to Face-Detection-10 in yolov5pytorch:: 100%|██████████| 5064/5064 [00:04<00:00, 1137.51it/s]\n"
     ]
    },
    {
     "name": "stdout",
     "output_type": "stream",
     "text": [
      "loading Roboflow workspace...\n",
      "loading Roboflow project...\n",
      "Downloading Dataset Version Zip in Cigarettes-detection-1 to yolov5pytorch: 6% [24567808 / 357225053] bytes"
     ]
    },
    {
     "name": "stderr",
     "output_type": "stream",
     "text": [
      "IOPub message rate exceeded.\n",
      "The notebook server will temporarily stop sending output\n",
      "to the client in order to avoid crashing it.\n",
      "To change this limit, set the config variable\n",
      "`--NotebookApp.iopub_msg_rate_limit`.\n",
      "\n",
      "Current values:\n",
      "NotebookApp.iopub_msg_rate_limit=1000.0 (msgs/sec)\n",
      "NotebookApp.rate_limit_window=3.0 (secs)\n",
      "\n"
     ]
    },
    {
     "name": "stdout",
     "output_type": "stream",
     "text": [
      "Downloading Dataset Version Zip in Cigarettes-detection-1 to yolov5pytorch: 21% [76398592 / 357225053] bytes"
     ]
    },
    {
     "name": "stderr",
     "output_type": "stream",
     "text": [
      "IOPub message rate exceeded.\n",
      "The notebook server will temporarily stop sending output\n",
      "to the client in order to avoid crashing it.\n",
      "To change this limit, set the config variable\n",
      "`--NotebookApp.iopub_msg_rate_limit`.\n",
      "\n",
      "Current values:\n",
      "NotebookApp.iopub_msg_rate_limit=1000.0 (msgs/sec)\n",
      "NotebookApp.rate_limit_window=3.0 (secs)\n",
      "\n"
     ]
    },
    {
     "name": "stdout",
     "output_type": "stream",
     "text": [
      "Downloading Dataset Version Zip in Cigarettes-detection-1 to yolov5pytorch: 35% [128417792 / 357225053] bytes"
     ]
    },
    {
     "name": "stderr",
     "output_type": "stream",
     "text": [
      "IOPub message rate exceeded.\n",
      "The notebook server will temporarily stop sending output\n",
      "to the client in order to avoid crashing it.\n",
      "To change this limit, set the config variable\n",
      "`--NotebookApp.iopub_msg_rate_limit`.\n",
      "\n",
      "Current values:\n",
      "NotebookApp.iopub_msg_rate_limit=1000.0 (msgs/sec)\n",
      "NotebookApp.rate_limit_window=3.0 (secs)\n",
      "\n"
     ]
    },
    {
     "name": "stdout",
     "output_type": "stream",
     "text": [
      "Downloading Dataset Version Zip in Cigarettes-detection-1 to yolov5pytorch: 50% [180387840 / 357225053] bytes"
     ]
    },
    {
     "name": "stderr",
     "output_type": "stream",
     "text": [
      "IOPub message rate exceeded.\n",
      "The notebook server will temporarily stop sending output\n",
      "to the client in order to avoid crashing it.\n",
      "To change this limit, set the config variable\n",
      "`--NotebookApp.iopub_msg_rate_limit`.\n",
      "\n",
      "Current values:\n",
      "NotebookApp.iopub_msg_rate_limit=1000.0 (msgs/sec)\n",
      "NotebookApp.rate_limit_window=3.0 (secs)\n",
      "\n"
     ]
    },
    {
     "name": "stdout",
     "output_type": "stream",
     "text": [
      "Downloading Dataset Version Zip in Cigarettes-detection-1 to yolov5pytorch: 64% [231194624 / 357225053] bytes"
     ]
    },
    {
     "name": "stderr",
     "output_type": "stream",
     "text": [
      "IOPub message rate exceeded.\n",
      "The notebook server will temporarily stop sending output\n",
      "to the client in order to avoid crashing it.\n",
      "To change this limit, set the config variable\n",
      "`--NotebookApp.iopub_msg_rate_limit`.\n",
      "\n",
      "Current values:\n",
      "NotebookApp.iopub_msg_rate_limit=1000.0 (msgs/sec)\n",
      "NotebookApp.rate_limit_window=3.0 (secs)\n",
      "\n"
     ]
    },
    {
     "name": "stdout",
     "output_type": "stream",
     "text": [
      "Downloading Dataset Version Zip in Cigarettes-detection-1 to yolov5pytorch: 78% [282091520 / 357225053] bytes"
     ]
    },
    {
     "name": "stderr",
     "output_type": "stream",
     "text": [
      "IOPub message rate exceeded.\n",
      "The notebook server will temporarily stop sending output\n",
      "to the client in order to avoid crashing it.\n",
      "To change this limit, set the config variable\n",
      "`--NotebookApp.iopub_msg_rate_limit`.\n",
      "\n",
      "Current values:\n",
      "NotebookApp.iopub_msg_rate_limit=1000.0 (msgs/sec)\n",
      "NotebookApp.rate_limit_window=3.0 (secs)\n",
      "\n"
     ]
    },
    {
     "name": "stdout",
     "output_type": "stream",
     "text": [
      "Downloading Dataset Version Zip in Cigarettes-detection-1 to yolov5pytorch: 93% [332611584 / 357225053] bytes"
     ]
    },
    {
     "name": "stderr",
     "output_type": "stream",
     "text": [
      "IOPub message rate exceeded.\n",
      "The notebook server will temporarily stop sending output\n",
      "to the client in order to avoid crashing it.\n",
      "To change this limit, set the config variable\n",
      "`--NotebookApp.iopub_msg_rate_limit`.\n",
      "\n",
      "Current values:\n",
      "NotebookApp.iopub_msg_rate_limit=1000.0 (msgs/sec)\n",
      "NotebookApp.rate_limit_window=3.0 (secs)\n",
      "\n",
      "Extracting Dataset Version Zip to Cigarettes-detection-1 in yolov5pytorch:: 100%|██████████| 8055/8055 [00:07<00:00, 1087.25it/s]\n"
     ]
    },
    {
     "name": "stdout",
     "output_type": "stream",
     "text": [
      "loading Roboflow workspace...\n",
      "loading Roboflow project...\n",
      "Downloading Dataset Version Zip in kface1-1 to yolov5pytorch: 100% [10490416 / 10490416] bytes\n"
     ]
    },
    {
     "name": "stderr",
     "output_type": "stream",
     "text": [
      "Extracting Dataset Version Zip to kface1-1 in yolov5pytorch:: 100%|██████████| 1812/1812 [00:01<00:00, 1718.60it/s]\n"
     ]
    },
    {
     "name": "stdout",
     "output_type": "stream",
     "text": [
      "loading Roboflow workspace...\n",
      "loading Roboflow project...\n",
      "Downloading Dataset Version Zip in Finish_Final_Allready_Gameover_Finally_Fin_Win_Stop_End-1 to yolov5pytorch: 18% [24567808 / 131979295] bytes"
     ]
    },
    {
     "name": "stderr",
     "output_type": "stream",
     "text": [
      "IOPub message rate exceeded.\n",
      "The notebook server will temporarily stop sending output\n",
      "to the client in order to avoid crashing it.\n",
      "To change this limit, set the config variable\n",
      "`--NotebookApp.iopub_msg_rate_limit`.\n",
      "\n",
      "Current values:\n",
      "NotebookApp.iopub_msg_rate_limit=1000.0 (msgs/sec)\n",
      "NotebookApp.rate_limit_window=3.0 (secs)\n",
      "\n"
     ]
    },
    {
     "name": "stdout",
     "output_type": "stream",
     "text": [
      "Downloading Dataset Version Zip in Finish_Final_Allready_Gameover_Finally_Fin_Win_Stop_End-1 to yolov5pytorch: 57% [75366400 / 131979295] bytes"
     ]
    },
    {
     "name": "stderr",
     "output_type": "stream",
     "text": [
      "IOPub message rate exceeded.\n",
      "The notebook server will temporarily stop sending output\n",
      "to the client in order to avoid crashing it.\n",
      "To change this limit, set the config variable\n",
      "`--NotebookApp.iopub_msg_rate_limit`.\n",
      "\n",
      "Current values:\n",
      "NotebookApp.iopub_msg_rate_limit=1000.0 (msgs/sec)\n",
      "NotebookApp.rate_limit_window=3.0 (secs)\n",
      "\n"
     ]
    },
    {
     "name": "stdout",
     "output_type": "stream",
     "text": [
      "Downloading Dataset Version Zip in Finish_Final_Allready_Gameover_Finally_Fin_Win_Stop_End-1 to yolov5pytorch: 95% [126017536 / 131979295] bytes"
     ]
    },
    {
     "name": "stderr",
     "output_type": "stream",
     "text": [
      "IOPub message rate exceeded.\n",
      "The notebook server will temporarily stop sending output\n",
      "to the client in order to avoid crashing it.\n",
      "To change this limit, set the config variable\n",
      "`--NotebookApp.iopub_msg_rate_limit`.\n",
      "\n",
      "Current values:\n",
      "NotebookApp.iopub_msg_rate_limit=1000.0 (msgs/sec)\n",
      "NotebookApp.rate_limit_window=3.0 (secs)\n",
      "\n",
      "Extracting Dataset Version Zip to Finish_Final_Allready_Gameover_Finally_Fin_Win_Stop_End-1 in yolov5pytorch:: 100%|██████████| 12258/12258 [00:15<00:00, 795.14it/s] \n"
     ]
    }
   ],
   "source": [
    "#filepath\n",
    "\n",
    "filepath=input(\"filepath : \")\n",
    "if not filepath:\n",
    "    filepath=\"/home/cfds031/content/\"\n",
    "print(\"filepath :\",filepath)\n",
    "\n",
    "#install data\n",
    "%cd /home/cfds031/content/\n",
    "#1\n",
    "rf = Roboflow(api_key=\"bXipzREfIA5Le8E1tKpO\")\n",
    "project = rf.workspace(\"smoke-tamtu\").project(\"cigarette-6ubdv\")\n",
    "dataset = project.version(4).download(\"yolov5\")\n",
    "\n",
    "#2\n",
    "rf = Roboflow(api_key=\"bXipzREfIA5Le8E1tKpO\")\n",
    "project = rf.workspace(\"new-workspace-6esfg\").project(\"cigarettes-asa8l\")\n",
    "dataset = project.version(3).download(\"yolov5\")\n",
    "\n",
    "#3\n",
    "rf = Roboflow(api_key=\"bXipzREfIA5Le8E1tKpO\")\n",
    "project = rf.workspace(\"-9kcqc\").project(\"sigarette\")\n",
    "dataset = project.version(1).download(\"yolov5\")\n",
    "\n",
    "#4\n",
    "rf = Roboflow(api_key=\"bXipzREfIA5Le8E1tKpO\")\n",
    "project = rf.workspace(\"new-workspace-8tfgz\").project(\"cigarettes-detection-4xvub\")\n",
    "dataset = project.version(13).download(\"yolov5\")\n",
    "\n",
    "#5\n",
    "rf = Roboflow(api_key=\"26r5AFhrQZjGlNzRvwgG\")\n",
    "project = rf.workspace(\"oliver-c8nwc\").project(\"maskdataset-wehht\")\n",
    "dataset = project.version(7).download(\"yolov5\")\n",
    "\n",
    "#6\n",
    "rf = Roboflow(api_key=\"26r5AFhrQZjGlNzRvwgG\")\n",
    "project = rf.workspace(\"thanapong-khajontantichaikun\").project(\"elderly-face-detection2\")\n",
    "dataset = project.version(10).download(\"yolov5\")\n",
    "\n",
    "#7\n",
    "rf = Roboflow(api_key=\"26r5AFhrQZjGlNzRvwgG\")\n",
    "project = rf.workspace(\"schoolstudy\").project(\"face-pxggb\")\n",
    "dataset = project.version(2).download(\"yolov5\")\n",
    "\n",
    "#8\n",
    "rf = Roboflow(api_key=\"bXipzREfIA5Le8E1tKpO\")\n",
    "project = rf.workspace(\"mohamed-traore-2ekkp\").project(\"face-detection-mik1i\")\n",
    "dataset = project.version(10).download(\"yolov5\")\n",
    "\n",
    "#---\n",
    "\n",
    "\n",
    "#9 \n",
    "\n",
    "rf = Roboflow(api_key=\"bXipzREfIA5Le8E1tKpO\")\n",
    "project = rf.workspace(\"daniil-fedoza-gmail-com\").project(\"cigarettes-detection\")\n",
    "dataset = project.version(1).download(\"yolov5\")\n",
    "\n",
    "#10\n",
    "\n",
    "rf = Roboflow(api_key=\"26r5AFhrQZjGlNzRvwgG\")\n",
    "project = rf.workspace(\"minjeong-kim-kzmga\").project(\"kface1\")\n",
    "dataset = project.version(1).download(\"yolov5\")\n",
    "#--- 초대량\n",
    "#11\n",
    "rf = Roboflow(api_key=\"bXipzREfIA5Le8E1tKpO\")\n",
    "project = rf.workspace(\"data-trgdm\").project(\"finish_final_allready_gameover_finally_fin_win_stop_end\")\n",
    "dataset = project.version(1).download(\"yolov5\")\n"
   ]
  },
  {
   "cell_type": "code",
   "execution_count": 10,
   "id": "6e9a4360",
   "metadata": {},
   "outputs": [
    {
     "name": "stdout",
     "output_type": "stream",
     "text": [
      "/home/cfds031/content/Cigarettes-Detection-13\n"
     ]
    }
   ],
   "source": [
    "#file name check\n",
    "%cd /home/cfds031/content/Cigarettes-Detection-13/\n",
    "%mv test valid"
   ]
  },
  {
   "cell_type": "code",
   "execution_count": 11,
   "id": "646208a1",
   "metadata": {
    "scrolled": true
   },
   "outputs": [
    {
     "name": "stdout",
     "output_type": "stream",
     "text": [
      "['cigarette-4', 'Cigarettes-3', 'Cigarettes-detection-1', 'Cigarettes-Detection-13', 'elderly-face-detection2-10', 'face-2', 'Face-Detection-10', 'Finish_Final_Allready_Gameover_Finally_Fin_Win_Stop_End-1', 'kface1-1', 'MaskDataset-7', 'Sigarette-1']\n"
     ]
    }
   ],
   "source": [
    "filenames=os.popen(\"cd /home/cfds031/content/ && ls\").read().split(\"\\n\")[:-1]\n",
    "print(filenames)"
   ]
  },
  {
   "cell_type": "code",
   "execution_count": 12,
   "id": "4d7e2d3a",
   "metadata": {
    "scrolled": false
   },
   "outputs": [
    {
     "name": "stdout",
     "output_type": "stream",
     "text": [
      "filenames :  ['cigarette-4', 'Cigarettes-3', 'Cigarettes-detection-1', 'Cigarettes-Detection-13', 'elderly-face-detection2-10', 'face-2', 'Face-Detection-10', 'Finish_Final_Allready_Gameover_Finally_Fin_Win_Stop_End-1', 'kface1-1', 'MaskDataset-7', 'Sigarette-1']\n",
      "number of class : 2\n",
      "cigarette-4 :0\n",
      "Cigarettes-3 :0\n",
      "Cigarettes-detection-1 :0\n",
      "Cigarettes-Detection-13 :0\n",
      "elderly-face-detection2-10 :1\n",
      "face-2 :1\n",
      "Face-Detection-10 :1\n",
      "Finish_Final_Allready_Gameover_Finally_Fin_Win_Stop_End-1 :1\n",
      "kface1-1 :1\n",
      "MaskDataset-7 :1\n",
      "Sigarette-1 :0\n",
      "\n",
      " cigarette-4 is stored in /home/cfds031/content/cigarette-4 \n",
      "\n",
      "\n",
      " Cigarettes-3 is stored in /home/cfds031/content/Cigarettes-3 \n",
      "\n",
      "\n",
      " Cigarettes-detection-1 is stored in /home/cfds031/content/Cigarettes-detection-1 \n",
      "\n",
      "\n",
      " Cigarettes-Detection-13 is stored in /home/cfds031/content/Cigarettes-Detection-13 \n",
      "\n",
      "\n",
      " elderly-face-detection2-10 is stored in /home/cfds031/content/elderly-face-detection2-10 \n",
      "\n",
      "\n",
      " face-2 is stored in /home/cfds031/content/face-2 \n",
      "\n",
      "\n",
      " Face-Detection-10 is stored in /home/cfds031/content/Face-Detection-10 \n",
      "\n",
      "\n",
      " Finish_Final_Allready_Gameover_Finally_Fin_Win_Stop_End-1 is stored in /home/cfds031/content/Finish_Final_Allready_Gameover_Finally_Fin_Win_Stop_End-1 \n",
      "\n",
      "\n",
      " kface1-1 is stored in /home/cfds031/content/kface1-1 \n",
      "\n",
      "\n",
      " MaskDataset-7 is stored in /home/cfds031/content/MaskDataset-7 \n",
      "\n",
      "\n",
      " Sigarette-1 is stored in /home/cfds031/content/Sigarette-1 \n",
      "\n"
     ]
    }
   ],
   "source": [
    "#filename\n",
    "print(\"filenames : \",filenames)\n",
    "nc=int(input(\"number of class : \"))\n",
    "dic={}\n",
    "filepaths=[]\n",
    "for filename in filenames:\n",
    "    print(filename,\":\",end=\"\")\n",
    "    fileidx=int(input())\n",
    "    dic[filename]=fileidx\n",
    "    filepaths.append(filepath+filename)\n",
    "for i in range(len(filenames)):\n",
    "    print(\"\\n\",filenames[i],\"is stored in\",filepaths[i],\"\\n\")"
   ]
  },
  {
   "cell_type": "code",
   "execution_count": 13,
   "id": "c7726f2d",
   "metadata": {
    "scrolled": true
   },
   "outputs": [
    {
     "name": "stdout",
     "output_type": "stream",
     "text": [
      "/home/cfds031/content\n",
      "/home/cfds031/content\n",
      "Cloning into 'yolov5'...\n",
      "remote: Enumerating objects: 12387, done.\u001b[K\n",
      "remote: Counting objects: 100% (95/95), done.\u001b[K\n",
      "remote: Compressing objects: 100% (72/72), done.\u001b[K\n",
      "remote: Total 12387 (delta 50), reused 47 (delta 23), pack-reused 12292\u001b[K\n",
      "Receiving objects: 100% (12387/12387), 12.70 MiB | 12.00 MiB/s, done.\n",
      "Resolving deltas: 100% (8519/8519), done.\n",
      "/home/cfds031/content/yolov5\n",
      "HEAD is now at 3cd66b1 Train.py line 486 typo fix (#9330)\n",
      "Requirement already satisfied: matplotlib>=3.2.2 in /home/cfds031/anaconda/envs/yolov5/lib/python3.10/site-packages (from -r requirements.txt (line 5)) (3.5.3)\n",
      "Requirement already satisfied: numpy>=1.18.5 in /home/cfds031/anaconda/envs/yolov5/lib/python3.10/site-packages (from -r requirements.txt (line 6)) (1.23.3)\n",
      "Requirement already satisfied: opencv-python>=4.1.1 in /home/cfds031/anaconda/envs/yolov5/lib/python3.10/site-packages (from -r requirements.txt (line 7)) (4.6.0.66)\n",
      "Requirement already satisfied: Pillow>=7.1.2 in /home/cfds031/anaconda/envs/yolov5/lib/python3.10/site-packages (from -r requirements.txt (line 8)) (9.2.0)\n",
      "Requirement already satisfied: PyYAML>=5.3.1 in /home/cfds031/anaconda/envs/yolov5/lib/python3.10/site-packages (from -r requirements.txt (line 9)) (6.0)\n",
      "Requirement already satisfied: requests>=2.23.0 in /home/cfds031/anaconda/envs/yolov5/lib/python3.10/site-packages (from -r requirements.txt (line 10)) (2.28.1)\n",
      "Requirement already satisfied: scipy>=1.4.1 in /home/cfds031/anaconda/envs/yolov5/lib/python3.10/site-packages (from -r requirements.txt (line 11)) (1.9.1)\n",
      "Requirement already satisfied: torch>=1.7.0 in /home/cfds031/anaconda/envs/yolov5/lib/python3.10/site-packages (from -r requirements.txt (line 12)) (1.12.1)\n",
      "Requirement already satisfied: torchvision>=0.8.1 in /home/cfds031/anaconda/envs/yolov5/lib/python3.10/site-packages (from -r requirements.txt (line 13)) (0.13.1)\n",
      "Requirement already satisfied: tqdm>=4.64.0 in /home/cfds031/anaconda/envs/yolov5/lib/python3.10/site-packages (from -r requirements.txt (line 14)) (4.64.1)\n",
      "Requirement already satisfied: tensorboard>=2.4.1 in /home/cfds031/anaconda/envs/yolov5/lib/python3.10/site-packages (from -r requirements.txt (line 18)) (2.10.0)\n",
      "Requirement already satisfied: pandas>=1.1.4 in /home/cfds031/anaconda/envs/yolov5/lib/python3.10/site-packages (from -r requirements.txt (line 23)) (1.4.4)\n",
      "Requirement already satisfied: seaborn>=0.11.0 in /home/cfds031/anaconda/envs/yolov5/lib/python3.10/site-packages (from -r requirements.txt (line 24)) (0.12.0)\n",
      "Requirement already satisfied: ipython in /home/cfds031/anaconda/envs/yolov5/lib/python3.10/site-packages (from -r requirements.txt (line 38)) (8.4.0)\n",
      "Requirement already satisfied: psutil in /home/cfds031/anaconda/envs/yolov5/lib/python3.10/site-packages (from -r requirements.txt (line 39)) (5.9.0)\n",
      "Requirement already satisfied: thop>=0.1.1 in /home/cfds031/anaconda/envs/yolov5/lib/python3.10/site-packages (from -r requirements.txt (line 40)) (0.1.1.post2209072238)\n",
      "Requirement already satisfied: cycler>=0.10 in /home/cfds031/anaconda/envs/yolov5/lib/python3.10/site-packages (from matplotlib>=3.2.2->-r requirements.txt (line 5)) (0.10.0)\n",
      "Requirement already satisfied: python-dateutil>=2.7 in /home/cfds031/anaconda/envs/yolov5/lib/python3.10/site-packages (from matplotlib>=3.2.2->-r requirements.txt (line 5)) (2.8.2)\n",
      "Requirement already satisfied: fonttools>=4.22.0 in /home/cfds031/anaconda/envs/yolov5/lib/python3.10/site-packages (from matplotlib>=3.2.2->-r requirements.txt (line 5)) (4.37.1)\n",
      "Requirement already satisfied: packaging>=20.0 in /home/cfds031/anaconda/envs/yolov5/lib/python3.10/site-packages (from matplotlib>=3.2.2->-r requirements.txt (line 5)) (21.3)\n",
      "Requirement already satisfied: kiwisolver>=1.0.1 in /home/cfds031/anaconda/envs/yolov5/lib/python3.10/site-packages (from matplotlib>=3.2.2->-r requirements.txt (line 5)) (1.3.1)\n",
      "Requirement already satisfied: pyparsing>=2.2.1 in /home/cfds031/anaconda/envs/yolov5/lib/python3.10/site-packages (from matplotlib>=3.2.2->-r requirements.txt (line 5)) (2.4.7)\n",
      "Requirement already satisfied: charset-normalizer<3,>=2 in /home/cfds031/anaconda/envs/yolov5/lib/python3.10/site-packages (from requests>=2.23.0->-r requirements.txt (line 10)) (2.0.4)\n",
      "Requirement already satisfied: certifi>=2017.4.17 in /home/cfds031/anaconda/envs/yolov5/lib/python3.10/site-packages (from requests>=2.23.0->-r requirements.txt (line 10)) (2021.5.30)\n",
      "Requirement already satisfied: idna<4,>=2.5 in /home/cfds031/anaconda/envs/yolov5/lib/python3.10/site-packages (from requests>=2.23.0->-r requirements.txt (line 10)) (2.10)\n",
      "Requirement already satisfied: urllib3<1.27,>=1.21.1 in /home/cfds031/anaconda/envs/yolov5/lib/python3.10/site-packages (from requests>=2.23.0->-r requirements.txt (line 10)) (1.26.6)\n",
      "Requirement already satisfied: typing-extensions in /home/cfds031/anaconda/envs/yolov5/lib/python3.10/site-packages (from torch>=1.7.0->-r requirements.txt (line 12)) (4.3.0)\n",
      "Requirement already satisfied: werkzeug>=1.0.1 in /home/cfds031/anaconda/envs/yolov5/lib/python3.10/site-packages (from tensorboard>=2.4.1->-r requirements.txt (line 18)) (2.2.2)\n",
      "Requirement already satisfied: protobuf<3.20,>=3.9.2 in /home/cfds031/anaconda/envs/yolov5/lib/python3.10/site-packages (from tensorboard>=2.4.1->-r requirements.txt (line 18)) (3.19.5)\n",
      "Requirement already satisfied: wheel>=0.26 in /home/cfds031/anaconda/envs/yolov5/lib/python3.10/site-packages (from tensorboard>=2.4.1->-r requirements.txt (line 18)) (0.37.1)\n",
      "Requirement already satisfied: setuptools>=41.0.0 in /home/cfds031/anaconda/envs/yolov5/lib/python3.10/site-packages (from tensorboard>=2.4.1->-r requirements.txt (line 18)) (63.4.1)\n",
      "Requirement already satisfied: markdown>=2.6.8 in /home/cfds031/anaconda/envs/yolov5/lib/python3.10/site-packages (from tensorboard>=2.4.1->-r requirements.txt (line 18)) (3.4.1)\n",
      "Requirement already satisfied: google-auth<3,>=1.6.3 in /home/cfds031/anaconda/envs/yolov5/lib/python3.10/site-packages (from tensorboard>=2.4.1->-r requirements.txt (line 18)) (2.11.0)\n",
      "Requirement already satisfied: tensorboard-plugin-wit>=1.6.0 in /home/cfds031/anaconda/envs/yolov5/lib/python3.10/site-packages (from tensorboard>=2.4.1->-r requirements.txt (line 18)) (1.8.1)\n",
      "Requirement already satisfied: google-auth-oauthlib<0.5,>=0.4.1 in /home/cfds031/anaconda/envs/yolov5/lib/python3.10/site-packages (from tensorboard>=2.4.1->-r requirements.txt (line 18)) (0.4.6)\n",
      "Requirement already satisfied: tensorboard-data-server<0.7.0,>=0.6.0 in /home/cfds031/anaconda/envs/yolov5/lib/python3.10/site-packages (from tensorboard>=2.4.1->-r requirements.txt (line 18)) (0.6.1)\n",
      "Requirement already satisfied: grpcio>=1.24.3 in /home/cfds031/anaconda/envs/yolov5/lib/python3.10/site-packages (from tensorboard>=2.4.1->-r requirements.txt (line 18)) (1.48.1)\n",
      "Requirement already satisfied: absl-py>=0.4 in /home/cfds031/anaconda/envs/yolov5/lib/python3.10/site-packages (from tensorboard>=2.4.1->-r requirements.txt (line 18)) (1.2.0)\n",
      "Requirement already satisfied: pytz>=2020.1 in /home/cfds031/anaconda/envs/yolov5/lib/python3.10/site-packages (from pandas>=1.1.4->-r requirements.txt (line 23)) (2022.1)\n",
      "Requirement already satisfied: stack-data in /home/cfds031/anaconda/envs/yolov5/lib/python3.10/site-packages (from ipython->-r requirements.txt (line 38)) (0.2.0)\n",
      "Requirement already satisfied: jedi>=0.16 in /home/cfds031/anaconda/envs/yolov5/lib/python3.10/site-packages (from ipython->-r requirements.txt (line 38)) (0.18.1)\n",
      "Requirement already satisfied: pickleshare in /home/cfds031/anaconda/envs/yolov5/lib/python3.10/site-packages (from ipython->-r requirements.txt (line 38)) (0.7.5)\n",
      "Requirement already satisfied: pexpect>4.3 in /home/cfds031/anaconda/envs/yolov5/lib/python3.10/site-packages (from ipython->-r requirements.txt (line 38)) (4.8.0)\n",
      "Requirement already satisfied: matplotlib-inline in /home/cfds031/anaconda/envs/yolov5/lib/python3.10/site-packages (from ipython->-r requirements.txt (line 38)) (0.1.6)\n",
      "Requirement already satisfied: decorator in /home/cfds031/anaconda/envs/yolov5/lib/python3.10/site-packages (from ipython->-r requirements.txt (line 38)) (5.1.1)\n",
      "Requirement already satisfied: backcall in /home/cfds031/anaconda/envs/yolov5/lib/python3.10/site-packages (from ipython->-r requirements.txt (line 38)) (0.2.0)\n",
      "Requirement already satisfied: traitlets>=5 in /home/cfds031/anaconda/envs/yolov5/lib/python3.10/site-packages (from ipython->-r requirements.txt (line 38)) (5.1.1)\n",
      "Requirement already satisfied: pygments>=2.4.0 in /home/cfds031/anaconda/envs/yolov5/lib/python3.10/site-packages (from ipython->-r requirements.txt (line 38)) (2.11.2)\n",
      "Requirement already satisfied: prompt-toolkit!=3.0.0,!=3.0.1,<3.1.0,>=2.0.0 in /home/cfds031/anaconda/envs/yolov5/lib/python3.10/site-packages (from ipython->-r requirements.txt (line 38)) (3.0.20)\n",
      "Requirement already satisfied: six in /home/cfds031/anaconda/envs/yolov5/lib/python3.10/site-packages (from cycler>=0.10->matplotlib>=3.2.2->-r requirements.txt (line 5)) (1.16.0)\n"
     ]
    },
    {
     "name": "stdout",
     "output_type": "stream",
     "text": [
      "Requirement already satisfied: pyasn1-modules>=0.2.1 in /home/cfds031/anaconda/envs/yolov5/lib/python3.10/site-packages (from google-auth<3,>=1.6.3->tensorboard>=2.4.1->-r requirements.txt (line 18)) (0.2.8)\n",
      "Requirement already satisfied: cachetools<6.0,>=2.0.0 in /home/cfds031/anaconda/envs/yolov5/lib/python3.10/site-packages (from google-auth<3,>=1.6.3->tensorboard>=2.4.1->-r requirements.txt (line 18)) (5.2.0)\n",
      "Requirement already satisfied: rsa<5,>=3.1.4 in /home/cfds031/anaconda/envs/yolov5/lib/python3.10/site-packages (from google-auth<3,>=1.6.3->tensorboard>=2.4.1->-r requirements.txt (line 18)) (4.9)\n",
      "Requirement already satisfied: requests-oauthlib>=0.7.0 in /home/cfds031/anaconda/envs/yolov5/lib/python3.10/site-packages (from google-auth-oauthlib<0.5,>=0.4.1->tensorboard>=2.4.1->-r requirements.txt (line 18)) (1.3.1)\n",
      "Requirement already satisfied: parso<0.9.0,>=0.8.0 in /home/cfds031/anaconda/envs/yolov5/lib/python3.10/site-packages (from jedi>=0.16->ipython->-r requirements.txt (line 38)) (0.8.3)\n",
      "Requirement already satisfied: ptyprocess>=0.5 in /home/cfds031/anaconda/envs/yolov5/lib/python3.10/site-packages (from pexpect>4.3->ipython->-r requirements.txt (line 38)) (0.7.0)\n",
      "Requirement already satisfied: wcwidth in /home/cfds031/anaconda/envs/yolov5/lib/python3.10/site-packages (from prompt-toolkit!=3.0.0,!=3.0.1,<3.1.0,>=2.0.0->ipython->-r requirements.txt (line 38)) (0.2.5)\n",
      "Requirement already satisfied: MarkupSafe>=2.1.1 in /home/cfds031/anaconda/envs/yolov5/lib/python3.10/site-packages (from werkzeug>=1.0.1->tensorboard>=2.4.1->-r requirements.txt (line 18)) (2.1.1)\n",
      "Requirement already satisfied: executing in /home/cfds031/anaconda/envs/yolov5/lib/python3.10/site-packages (from stack-data->ipython->-r requirements.txt (line 38)) (0.8.3)\n",
      "Requirement already satisfied: pure-eval in /home/cfds031/anaconda/envs/yolov5/lib/python3.10/site-packages (from stack-data->ipython->-r requirements.txt (line 38)) (0.2.2)\n",
      "Requirement already satisfied: asttokens in /home/cfds031/anaconda/envs/yolov5/lib/python3.10/site-packages (from stack-data->ipython->-r requirements.txt (line 38)) (2.0.5)\n",
      "Requirement already satisfied: pyasn1<0.5.0,>=0.4.6 in /home/cfds031/anaconda/envs/yolov5/lib/python3.10/site-packages (from pyasn1-modules>=0.2.1->google-auth<3,>=1.6.3->tensorboard>=2.4.1->-r requirements.txt (line 18)) (0.4.8)\n",
      "Requirement already satisfied: oauthlib>=3.0.0 in /home/cfds031/anaconda/envs/yolov5/lib/python3.10/site-packages (from requests-oauthlib>=0.7.0->google-auth-oauthlib<0.5,>=0.4.1->tensorboard>=2.4.1->-r requirements.txt (line 18)) (3.2.1)\n"
     ]
    }
   ],
   "source": [
    "generate_dataset_yolov5()"
   ]
  },
  {
   "cell_type": "code",
   "execution_count": 14,
   "id": "efe9d330",
   "metadata": {},
   "outputs": [
    {
     "name": "stdout",
     "output_type": "stream",
     "text": [
      "train datas :  256 256\n",
      "val datas: 72 72\n",
      "generate 4 txt files in /home/cfds031/content/cigarette-4\n",
      "train datas :  2091 2091\n",
      "val datas: 176 176\n",
      "generate 4 txt files in /home/cfds031/content/Cigarettes-3\n",
      "train datas :  3714 3714\n",
      "val datas: 309 309\n",
      "generate 4 txt files in /home/cfds031/content/Cigarettes-detection-1\n",
      "train datas :  1350 1350\n",
      "val datas: 318 318\n",
      "generate 4 txt files in /home/cfds031/content/Cigarettes-Detection-13\n",
      "train datas :  416 416\n",
      "val datas: 208 208\n",
      "generate 4 txt files in /home/cfds031/content/elderly-face-detection2-10\n",
      "train datas :  542 542\n",
      "val datas: 136 136\n",
      "generate 4 txt files in /home/cfds031/content/face-2\n",
      "train datas :  2211 2211\n",
      "val datas: 209 209\n",
      "generate 4 txt files in /home/cfds031/content/Face-Detection-10\n",
      "train datas :  4666 4666\n",
      "val datas: 1104 1104\n",
      "generate 4 txt files in /home/cfds031/content/Finish_Final_Allready_Gameover_Finally_Fin_Win_Stop_End-1\n",
      "train datas :  630 630\n",
      "val datas: 180 180\n",
      "generate 4 txt files in /home/cfds031/content/kface1-1\n",
      "train datas :  88 88\n",
      "val datas: 6 6\n",
      "generate 4 txt files in /home/cfds031/content/MaskDataset-7\n",
      "train datas :  1572 1572\n",
      "val datas: 145 145\n",
      "generate 4 txt files in /home/cfds031/content/Sigarette-1\n"
     ]
    }
   ],
   "source": [
    "for i in range(len(filenames)):\n",
    "    make_img_txt_and_fix_class(filepaths[i],idx=dic[filenames[i]])\n",
    "\n",
    "merge_train_valid_addressfile(filepaths)"
   ]
  },
  {
   "cell_type": "code",
   "execution_count": 15,
   "id": "6fd29493",
   "metadata": {
    "scrolled": true
   },
   "outputs": [
    {
     "name": "stdout",
     "output_type": "stream",
     "text": [
      "{'train': '/home/cfds031/content/dataset/train_img.txt', 'val': '/home/cfds031/content/dataset/val_img.txt', 'names': ['cigarette', 'Face'], 'nc': 2}\n"
     ]
    },
    {
     "name": "stderr",
     "output_type": "stream",
     "text": [
      "sh: 1: /home/cfds031/content/dataset: Permission denied\n"
     ]
    }
   ],
   "source": [
    "import yaml \n",
    "os.system(filepath+\"dataset\")\n",
    "data={}\n",
    "data[\"train\"]=filepath+\"dataset/train_img.txt\"\n",
    "data[\"val\"]=filepath+\"dataset/val_img.txt\"\n",
    "data[\"names\"]=[\"cigarette\",\"Face\"]\n",
    "data[\"nc\"]=nc\n",
    "\n",
    "with open(filepath+\"dataset/data.yaml\",\"w\") as f:\n",
    "    yaml.dump(data,f)\n",
    "print(data)"
   ]
  }
 ],
 "metadata": {
  "kernelspec": {
   "display_name": "Python 3 (ipykernel)",
   "language": "python",
   "name": "python3"
  },
  "language_info": {
   "codemirror_mode": {
    "name": "ipython",
    "version": 3
   },
   "file_extension": ".py",
   "mimetype": "text/x-python",
   "name": "python",
   "nbconvert_exporter": "python",
   "pygments_lexer": "ipython3",
   "version": "3.10.4"
  }
 },
 "nbformat": 4,
 "nbformat_minor": 5
}
