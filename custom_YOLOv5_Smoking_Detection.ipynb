{
  "cells": [
    {
      "cell_type": "code",
      "execution_count": null,
      "metadata": {
        "colab": {
          "base_uri": "https://localhost:8080/",
          "height": 1000
        },
        "id": "6cAA3YHsyPmf",
        "outputId": "8a66ea7e-d3ea-4320-fc52-5bdeb3cb134a"
      },
      "outputs": [
        {
          "output_type": "stream",
          "name": "stdout",
          "text": [
            "Looking in indexes: https://pypi.org/simple, https://us-python.pkg.dev/colab-wheels/public/simple/\n",
            "Collecting roboflow\n",
            "  Downloading roboflow-0.2.15.tar.gz (18 kB)\n",
            "Collecting certifi==2021.5.30\n",
            "  Downloading certifi-2021.5.30-py2.py3-none-any.whl (145 kB)\n",
            "\u001b[K     |████████████████████████████████| 145 kB 3.7 MB/s \n",
            "\u001b[?25hCollecting chardet==4.0.0\n",
            "  Downloading chardet-4.0.0-py2.py3-none-any.whl (178 kB)\n",
            "\u001b[K     |████████████████████████████████| 178 kB 25.9 MB/s \n",
            "\u001b[?25hCollecting cycler==0.10.0\n",
            "  Downloading cycler-0.10.0-py2.py3-none-any.whl (6.5 kB)\n",
            "Requirement already satisfied: glob2 in /usr/local/lib/python3.7/dist-packages (from roboflow) (0.7)\n",
            "Requirement already satisfied: idna==2.10 in /usr/local/lib/python3.7/dist-packages (from roboflow) (2.10)\n",
            "Collecting kiwisolver==1.3.1\n",
            "  Downloading kiwisolver-1.3.1-cp37-cp37m-manylinux1_x86_64.whl (1.1 MB)\n",
            "\u001b[K     |████████████████████████████████| 1.1 MB 59.7 MB/s \n",
            "\u001b[?25hRequirement already satisfied: matplotlib in /usr/local/lib/python3.7/dist-packages (from roboflow) (3.2.2)\n",
            "Requirement already satisfied: numpy>=1.18.5 in /usr/local/lib/python3.7/dist-packages (from roboflow) (1.21.6)\n",
            "Requirement already satisfied: opencv-python-headless>=4.5.1.48 in /usr/local/lib/python3.7/dist-packages (from roboflow) (4.6.0.66)\n",
            "Requirement already satisfied: Pillow>=7.1.2 in /usr/local/lib/python3.7/dist-packages (from roboflow) (7.1.2)\n",
            "Collecting pyparsing==2.4.7\n",
            "  Downloading pyparsing-2.4.7-py2.py3-none-any.whl (67 kB)\n",
            "\u001b[K     |████████████████████████████████| 67 kB 6.9 MB/s \n",
            "\u001b[?25hRequirement already satisfied: python-dateutil in /usr/local/lib/python3.7/dist-packages (from roboflow) (2.8.2)\n",
            "Collecting python-dotenv\n",
            "  Downloading python_dotenv-0.21.0-py3-none-any.whl (18 kB)\n",
            "Requirement already satisfied: requests in /usr/local/lib/python3.7/dist-packages (from roboflow) (2.23.0)\n",
            "Collecting requests_toolbelt\n",
            "  Downloading requests_toolbelt-0.9.1-py2.py3-none-any.whl (54 kB)\n",
            "\u001b[K     |████████████████████████████████| 54 kB 3.0 MB/s \n",
            "\u001b[?25hRequirement already satisfied: six in /usr/local/lib/python3.7/dist-packages (from roboflow) (1.15.0)\n",
            "Collecting urllib3==1.26.6\n",
            "  Downloading urllib3-1.26.6-py2.py3-none-any.whl (138 kB)\n",
            "\u001b[K     |████████████████████████████████| 138 kB 74.0 MB/s \n",
            "\u001b[?25hCollecting wget\n",
            "  Downloading wget-3.2.zip (10 kB)\n",
            "Requirement already satisfied: tqdm>=4.41.0 in /usr/local/lib/python3.7/dist-packages (from roboflow) (4.64.1)\n",
            "Requirement already satisfied: PyYAML>=5.3.1 in /usr/local/lib/python3.7/dist-packages (from roboflow) (6.0)\n",
            "Collecting requests\n",
            "  Downloading requests-2.28.1-py3-none-any.whl (62 kB)\n",
            "\u001b[K     |████████████████████████████████| 62 kB 1.8 MB/s \n",
            "\u001b[?25hRequirement already satisfied: charset-normalizer<3,>=2 in /usr/local/lib/python3.7/dist-packages (from requests->roboflow) (2.1.1)\n",
            "Building wheels for collected packages: roboflow, wget\n",
            "  Building wheel for roboflow (setup.py) ... \u001b[?25l\u001b[?25hdone\n",
            "  Created wheel for roboflow: filename=roboflow-0.2.15-py3-none-any.whl size=24936 sha256=571983db85bb45a0742902fce8273ae2dd82d998562f045867ec9d7387f2b3d1\n",
            "  Stored in directory: /root/.cache/pip/wheels/13/e0/a3/fe183fffc3972cb9264e800763d4bbfff80d5309137c410217\n",
            "  Building wheel for wget (setup.py) ... \u001b[?25l\u001b[?25hdone\n",
            "  Created wheel for wget: filename=wget-3.2-py3-none-any.whl size=9675 sha256=1bbda530c9f10b95ab257e17117eb78ba0bd5d8691e689eec52e5d4be2b894bd\n",
            "  Stored in directory: /root/.cache/pip/wheels/a1/b6/7c/0e63e34eb06634181c63adacca38b79ff8f35c37e3c13e3c02\n",
            "Successfully built roboflow wget\n",
            "Installing collected packages: urllib3, certifi, requests, pyparsing, kiwisolver, cycler, wget, requests-toolbelt, python-dotenv, chardet, roboflow\n",
            "  Attempting uninstall: urllib3\n",
            "    Found existing installation: urllib3 1.24.3\n",
            "    Uninstalling urllib3-1.24.3:\n",
            "      Successfully uninstalled urllib3-1.24.3\n",
            "  Attempting uninstall: certifi\n",
            "    Found existing installation: certifi 2022.6.15\n",
            "    Uninstalling certifi-2022.6.15:\n",
            "      Successfully uninstalled certifi-2022.6.15\n",
            "  Attempting uninstall: requests\n",
            "    Found existing installation: requests 2.23.0\n",
            "    Uninstalling requests-2.23.0:\n",
            "      Successfully uninstalled requests-2.23.0\n",
            "  Attempting uninstall: pyparsing\n",
            "    Found existing installation: pyparsing 3.0.9\n",
            "    Uninstalling pyparsing-3.0.9:\n",
            "      Successfully uninstalled pyparsing-3.0.9\n",
            "  Attempting uninstall: kiwisolver\n",
            "    Found existing installation: kiwisolver 1.4.4\n",
            "    Uninstalling kiwisolver-1.4.4:\n",
            "      Successfully uninstalled kiwisolver-1.4.4\n",
            "  Attempting uninstall: cycler\n",
            "    Found existing installation: cycler 0.11.0\n",
            "    Uninstalling cycler-0.11.0:\n",
            "      Successfully uninstalled cycler-0.11.0\n",
            "  Attempting uninstall: chardet\n",
            "    Found existing installation: chardet 3.0.4\n",
            "    Uninstalling chardet-3.0.4:\n",
            "      Successfully uninstalled chardet-3.0.4\n",
            "Successfully installed certifi-2021.5.30 chardet-4.0.0 cycler-0.10.0 kiwisolver-1.3.1 pyparsing-2.4.7 python-dotenv-0.21.0 requests-2.28.1 requests-toolbelt-0.9.1 roboflow-0.2.15 urllib3-1.26.6 wget-3.2\n"
          ]
        },
        {
          "output_type": "display_data",
          "data": {
            "application/vnd.colab-display-data+json": {
              "pip_warning": {
                "packages": [
                  "certifi",
                  "cycler",
                  "kiwisolver",
                  "pyparsing"
                ]
              }
            }
          },
          "metadata": {}
        },
        {
          "output_type": "stream",
          "name": "stdout",
          "text": [
            "loading Roboflow workspace...\n",
            "loading Roboflow project...\n",
            "Downloading Dataset Version Zip in Mouth-States-2-5 to yolov5pytorch: 100% [53801425 / 53801425] bytes\n"
          ]
        },
        {
          "output_type": "stream",
          "name": "stderr",
          "text": [
            "Extracting Dataset Version Zip to Mouth-States-2-5 in yolov5pytorch:: 100%|██████████| 2908/2908 [00:01<00:00, 2552.70it/s]\n"
          ]
        }
      ],
      "source": [
        "!pip install roboflow\n",
        "#입\n",
        "from roboflow import Roboflow\n",
        "rf = Roboflow(api_key=\"bXipzREfIA5Le8E1tKpO\")\n",
        "project = rf.workspace(\"new-workspace-uhm9u\").project(\"mouth-states-2\")\n",
        "dataset = project.version(5).download(\"yolov5\")\n"
      ]
    },
    {
      "cell_type": "code",
      "execution_count": null,
      "metadata": {
        "colab": {
          "base_uri": "https://localhost:8080/"
        },
        "id": "SpuDxnZsaRau",
        "outputId": "f780cac4-a407-451b-d8e6-979b9f9e0f4a"
      },
      "outputs": [
        {
          "output_type": "stream",
          "name": "stdout",
          "text": [
            "Looking in indexes: https://pypi.org/simple, https://us-python.pkg.dev/colab-wheels/public/simple/\n",
            "Requirement already satisfied: roboflow in /usr/local/lib/python3.7/dist-packages (0.2.15)\n",
            "Requirement already satisfied: kiwisolver==1.3.1 in /usr/local/lib/python3.7/dist-packages (from roboflow) (1.3.1)\n",
            "Requirement already satisfied: wget in /usr/local/lib/python3.7/dist-packages (from roboflow) (3.2)\n",
            "Requirement already satisfied: requests-toolbelt in /usr/local/lib/python3.7/dist-packages (from roboflow) (0.9.1)\n",
            "Requirement already satisfied: pyparsing==2.4.7 in /usr/local/lib/python3.7/dist-packages (from roboflow) (2.4.7)\n",
            "Requirement already satisfied: certifi==2021.5.30 in /usr/local/lib/python3.7/dist-packages (from roboflow) (2021.5.30)\n",
            "Requirement already satisfied: matplotlib in /usr/local/lib/python3.7/dist-packages (from roboflow) (3.2.2)\n",
            "Requirement already satisfied: idna==2.10 in /usr/local/lib/python3.7/dist-packages (from roboflow) (2.10)\n",
            "Requirement already satisfied: cycler==0.10.0 in /usr/local/lib/python3.7/dist-packages (from roboflow) (0.10.0)\n",
            "Requirement already satisfied: requests in /usr/local/lib/python3.7/dist-packages (from roboflow) (2.28.1)\n",
            "Requirement already satisfied: python-dotenv in /usr/local/lib/python3.7/dist-packages (from roboflow) (0.21.0)\n",
            "Requirement already satisfied: numpy>=1.18.5 in /usr/local/lib/python3.7/dist-packages (from roboflow) (1.21.6)\n",
            "Requirement already satisfied: urllib3==1.26.6 in /usr/local/lib/python3.7/dist-packages (from roboflow) (1.26.6)\n",
            "Requirement already satisfied: PyYAML>=5.3.1 in /usr/local/lib/python3.7/dist-packages (from roboflow) (6.0)\n",
            "Requirement already satisfied: Pillow>=7.1.2 in /usr/local/lib/python3.7/dist-packages (from roboflow) (7.1.2)\n",
            "Requirement already satisfied: glob2 in /usr/local/lib/python3.7/dist-packages (from roboflow) (0.7)\n",
            "Requirement already satisfied: chardet==4.0.0 in /usr/local/lib/python3.7/dist-packages (from roboflow) (4.0.0)\n",
            "Requirement already satisfied: opencv-python-headless>=4.5.1.48 in /usr/local/lib/python3.7/dist-packages (from roboflow) (4.6.0.66)\n",
            "Requirement already satisfied: six in /usr/local/lib/python3.7/dist-packages (from roboflow) (1.15.0)\n",
            "Requirement already satisfied: tqdm>=4.41.0 in /usr/local/lib/python3.7/dist-packages (from roboflow) (4.64.1)\n",
            "Requirement already satisfied: python-dateutil in /usr/local/lib/python3.7/dist-packages (from roboflow) (2.8.2)\n",
            "Requirement already satisfied: charset-normalizer<3,>=2 in /usr/local/lib/python3.7/dist-packages (from requests->roboflow) (2.1.1)\n",
            "loading Roboflow workspace...\n",
            "loading Roboflow project...\n",
            "Downloading Dataset Version Zip in Cigarettes-Detection-13 to yolov5pytorch: 100% [70105675 / 70105675] bytes\n"
          ]
        },
        {
          "output_type": "stream",
          "name": "stderr",
          "text": [
            "Extracting Dataset Version Zip to Cigarettes-Detection-13 in yolov5pytorch:: 100%|██████████| 3345/3345 [00:01<00:00, 2125.42it/s]\n"
          ]
        }
      ],
      "source": [
        "!pip install roboflow\n",
        "#담배\n",
        "from roboflow import Roboflow\n",
        "rf = Roboflow(api_key=\"bXipzREfIA5Le8E1tKpO\")\n",
        "project = rf.workspace(\"new-workspace-8tfgz\").project(\"cigarettes-detection-4xvub\")\n",
        "dataset = project.version(13).download(\"yolov5\")"
      ]
    },
    {
      "cell_type": "code",
      "execution_count": null,
      "metadata": {
        "colab": {
          "base_uri": "https://localhost:8080/"
        },
        "id": "SGrCXVlk7GxI",
        "outputId": "3194c8fb-c821-4fe5-c0af-494b89ce8699"
      },
      "outputs": [
        {
          "output_type": "stream",
          "name": "stdout",
          "text": [
            "/content/Cigarettes-Detection-13\n"
          ]
        }
      ],
      "source": [
        "%cd /content/Cigarettes-Detection-13\n",
        "%mv test valid"
      ]
    },
    {
      "cell_type": "code",
      "execution_count": null,
      "metadata": {
        "colab": {
          "base_uri": "https://localhost:8080/",
          "height": 54
        },
        "id": "cJptXY_egL15",
        "outputId": "410c2766-4b0f-4c60-816b-b0528e8fd497"
      },
      "outputs": [
        {
          "output_type": "execute_result",
          "data": {
            "text/plain": [
              "'\\n%cd /content/\\n#라이터\\nrf = Roboflow(api_key=\"bXipzREfIA5Le8E1tKpO\")\\nproject = rf.workspace(\"hwang-sung-min\").project(\"lighter-nvtss\")\\ndataset = project.version(1).download(\"yolov5\")\\n'"
            ],
            "application/vnd.google.colaboratory.intrinsic+json": {
              "type": "string"
            }
          },
          "metadata": {},
          "execution_count": 4
        }
      ],
      "source": [
        "'''\n",
        "%cd /content/\n",
        "#라이터\n",
        "rf = Roboflow(api_key=\"bXipzREfIA5Le8E1tKpO\")\n",
        "project = rf.workspace(\"hwang-sung-min\").project(\"lighter-nvtss\")\n",
        "dataset = project.version(1).download(\"yolov5\")\n",
        "'''"
      ]
    },
    {
      "cell_type": "code",
      "execution_count": null,
      "metadata": {
        "colab": {
          "base_uri": "https://localhost:8080/",
          "height": 54
        },
        "id": "yFC2z35RgMGe",
        "outputId": "38fd464d-3fe3-4d1f-cd83-7a6aaf014d2a"
      },
      "outputs": [
        {
          "output_type": "execute_result",
          "data": {
            "text/plain": [
              "'\\nfrom roboflow import Roboflow\\nrf = Roboflow(api_key=\"bXipzREfIA5Le8E1tKpO\")\\nproject = rf.workspace(\"sain\").project(\"fire-detection-qskhc\")\\ndataset = project.version(3).download(\"yolov5\")\\n'"
            ],
            "application/vnd.google.colaboratory.intrinsic+json": {
              "type": "string"
            }
          },
          "metadata": {},
          "execution_count": 5
        }
      ],
      "source": [
        "#불\n",
        "'''\n",
        "from roboflow import Roboflow\n",
        "rf = Roboflow(api_key=\"bXipzREfIA5Le8E1tKpO\")\n",
        "project = rf.workspace(\"sain\").project(\"fire-detection-qskhc\")\n",
        "dataset = project.version(3).download(\"yolov5\")\n",
        "'''"
      ]
    },
    {
      "cell_type": "code",
      "execution_count": null,
      "metadata": {
        "id": "tTXp7tX9Ijhk"
      },
      "outputs": [],
      "source": [
        "#filename\n",
        "mouthname=\"/Mouth-States-2-5\"\n",
        "smokename=\"/Cigarettes-Detection-13\"\n",
        "#lightername=\"/Lighter-1\"\n",
        "#firename=\"/fire-detection-3\"\n",
        "\n",
        "#filepath\n",
        "mouthpath=\"/content\"+mouthname\n",
        "smokepath=\"/content\"+smokename\n",
        "#lighterpath=\"/content\"+lightername\n",
        "#firepath=\"/content\"+firename\n"
      ]
    },
    {
      "cell_type": "code",
      "execution_count": null,
      "metadata": {
        "colab": {
          "base_uri": "https://localhost:8080/"
        },
        "id": "eUtjuwEQyvHv",
        "outputId": "8e1cbe64-dd3a-4ee5-e167-e73a7a6eb2f8"
      },
      "outputs": [
        {
          "output_type": "stream",
          "name": "stdout",
          "text": [
            "/content\n",
            "Cloning into 'yolov5'...\n",
            "remote: Enumerating objects: 12310, done.\u001b[K\n",
            "remote: Counting objects: 100% (23/23), done.\u001b[K\n",
            "remote: Compressing objects: 100% (10/10), done.\u001b[K\n",
            "remote: Total 12310 (delta 16), reused 17 (delta 13), pack-reused 12287\u001b[K\n",
            "Receiving objects: 100% (12310/12310), 12.63 MiB | 20.83 MiB/s, done.\n",
            "Resolving deltas: 100% (8484/8484), done.\n"
          ]
        }
      ],
      "source": [
        "%cd /content\n",
        "!git clone https://github.com/ultralytics/yolov5.git"
      ]
    },
    {
      "cell_type": "code",
      "execution_count": null,
      "metadata": {
        "colab": {
          "base_uri": "https://localhost:8080/"
        },
        "id": "d2P4RfMZ0CL5",
        "outputId": "3fe449dc-4efe-44cd-ceb3-865b1304c81d"
      },
      "outputs": [
        {
          "output_type": "stream",
          "name": "stdout",
          "text": [
            "/content/yolov5\n",
            "HEAD is now at 3cd66b1 Train.py line 486 typo fix (#9330)\n",
            "Looking in indexes: https://pypi.org/simple, https://us-python.pkg.dev/colab-wheels/public/simple/\n",
            "Requirement already satisfied: matplotlib>=3.2.2 in /usr/local/lib/python3.7/dist-packages (from -r requirements.txt (line 5)) (3.2.2)\n",
            "Requirement already satisfied: numpy>=1.18.5 in /usr/local/lib/python3.7/dist-packages (from -r requirements.txt (line 6)) (1.21.6)\n",
            "Requirement already satisfied: opencv-python>=4.1.1 in /usr/local/lib/python3.7/dist-packages (from -r requirements.txt (line 7)) (4.6.0.66)\n",
            "Requirement already satisfied: Pillow>=7.1.2 in /usr/local/lib/python3.7/dist-packages (from -r requirements.txt (line 8)) (7.1.2)\n",
            "Requirement already satisfied: PyYAML>=5.3.1 in /usr/local/lib/python3.7/dist-packages (from -r requirements.txt (line 9)) (6.0)\n",
            "Requirement already satisfied: requests>=2.23.0 in /usr/local/lib/python3.7/dist-packages (from -r requirements.txt (line 10)) (2.28.1)\n",
            "Requirement already satisfied: scipy>=1.4.1 in /usr/local/lib/python3.7/dist-packages (from -r requirements.txt (line 11)) (1.7.3)\n",
            "Requirement already satisfied: torch>=1.7.0 in /usr/local/lib/python3.7/dist-packages (from -r requirements.txt (line 12)) (1.12.1+cu113)\n",
            "Requirement already satisfied: torchvision>=0.8.1 in /usr/local/lib/python3.7/dist-packages (from -r requirements.txt (line 13)) (0.13.1+cu113)\n",
            "Requirement already satisfied: tqdm>=4.64.0 in /usr/local/lib/python3.7/dist-packages (from -r requirements.txt (line 14)) (4.64.1)\n",
            "Requirement already satisfied: tensorboard>=2.4.1 in /usr/local/lib/python3.7/dist-packages (from -r requirements.txt (line 18)) (2.8.0)\n",
            "Requirement already satisfied: pandas>=1.1.4 in /usr/local/lib/python3.7/dist-packages (from -r requirements.txt (line 23)) (1.3.5)\n",
            "Requirement already satisfied: seaborn>=0.11.0 in /usr/local/lib/python3.7/dist-packages (from -r requirements.txt (line 24)) (0.11.2)\n",
            "Requirement already satisfied: ipython in /usr/local/lib/python3.7/dist-packages (from -r requirements.txt (line 38)) (7.9.0)\n",
            "Requirement already satisfied: psutil in /usr/local/lib/python3.7/dist-packages (from -r requirements.txt (line 39)) (5.4.8)\n",
            "Collecting thop>=0.1.1\n",
            "  Downloading thop-0.1.1.post2209072238-py3-none-any.whl (15 kB)\n",
            "Requirement already satisfied: python-dateutil>=2.1 in /usr/local/lib/python3.7/dist-packages (from matplotlib>=3.2.2->-r requirements.txt (line 5)) (2.8.2)\n",
            "Requirement already satisfied: kiwisolver>=1.0.1 in /usr/local/lib/python3.7/dist-packages (from matplotlib>=3.2.2->-r requirements.txt (line 5)) (1.3.1)\n",
            "Requirement already satisfied: pyparsing!=2.0.4,!=2.1.2,!=2.1.6,>=2.0.1 in /usr/local/lib/python3.7/dist-packages (from matplotlib>=3.2.2->-r requirements.txt (line 5)) (2.4.7)\n",
            "Requirement already satisfied: cycler>=0.10 in /usr/local/lib/python3.7/dist-packages (from matplotlib>=3.2.2->-r requirements.txt (line 5)) (0.10.0)\n",
            "Requirement already satisfied: certifi>=2017.4.17 in /usr/local/lib/python3.7/dist-packages (from requests>=2.23.0->-r requirements.txt (line 10)) (2021.5.30)\n",
            "Requirement already satisfied: idna<4,>=2.5 in /usr/local/lib/python3.7/dist-packages (from requests>=2.23.0->-r requirements.txt (line 10)) (2.10)\n",
            "Requirement already satisfied: charset-normalizer<3,>=2 in /usr/local/lib/python3.7/dist-packages (from requests>=2.23.0->-r requirements.txt (line 10)) (2.1.1)\n",
            "Requirement already satisfied: urllib3<1.27,>=1.21.1 in /usr/local/lib/python3.7/dist-packages (from requests>=2.23.0->-r requirements.txt (line 10)) (1.26.6)\n",
            "Requirement already satisfied: typing-extensions in /usr/local/lib/python3.7/dist-packages (from torch>=1.7.0->-r requirements.txt (line 12)) (4.1.1)\n",
            "Requirement already satisfied: protobuf>=3.6.0 in /usr/local/lib/python3.7/dist-packages (from tensorboard>=2.4.1->-r requirements.txt (line 18)) (3.17.3)\n",
            "Requirement already satisfied: wheel>=0.26 in /usr/local/lib/python3.7/dist-packages (from tensorboard>=2.4.1->-r requirements.txt (line 18)) (0.37.1)\n",
            "Requirement already satisfied: setuptools>=41.0.0 in /usr/local/lib/python3.7/dist-packages (from tensorboard>=2.4.1->-r requirements.txt (line 18)) (57.4.0)\n",
            "Requirement already satisfied: absl-py>=0.4 in /usr/local/lib/python3.7/dist-packages (from tensorboard>=2.4.1->-r requirements.txt (line 18)) (1.2.0)\n",
            "Requirement already satisfied: tensorboard-data-server<0.7.0,>=0.6.0 in /usr/local/lib/python3.7/dist-packages (from tensorboard>=2.4.1->-r requirements.txt (line 18)) (0.6.1)\n",
            "Requirement already satisfied: markdown>=2.6.8 in /usr/local/lib/python3.7/dist-packages (from tensorboard>=2.4.1->-r requirements.txt (line 18)) (3.4.1)\n",
            "Requirement already satisfied: werkzeug>=0.11.15 in /usr/local/lib/python3.7/dist-packages (from tensorboard>=2.4.1->-r requirements.txt (line 18)) (1.0.1)\n",
            "Requirement already satisfied: google-auth<3,>=1.6.3 in /usr/local/lib/python3.7/dist-packages (from tensorboard>=2.4.1->-r requirements.txt (line 18)) (1.35.0)\n",
            "Requirement already satisfied: tensorboard-plugin-wit>=1.6.0 in /usr/local/lib/python3.7/dist-packages (from tensorboard>=2.4.1->-r requirements.txt (line 18)) (1.8.1)\n",
            "Requirement already satisfied: google-auth-oauthlib<0.5,>=0.4.1 in /usr/local/lib/python3.7/dist-packages (from tensorboard>=2.4.1->-r requirements.txt (line 18)) (0.4.6)\n",
            "Requirement already satisfied: grpcio>=1.24.3 in /usr/local/lib/python3.7/dist-packages (from tensorboard>=2.4.1->-r requirements.txt (line 18)) (1.48.1)\n",
            "Requirement already satisfied: pytz>=2017.3 in /usr/local/lib/python3.7/dist-packages (from pandas>=1.1.4->-r requirements.txt (line 23)) (2022.2.1)\n",
            "Requirement already satisfied: six in /usr/local/lib/python3.7/dist-packages (from cycler>=0.10->matplotlib>=3.2.2->-r requirements.txt (line 5)) (1.15.0)\n",
            "Requirement already satisfied: cachetools<5.0,>=2.0.0 in /usr/local/lib/python3.7/dist-packages (from google-auth<3,>=1.6.3->tensorboard>=2.4.1->-r requirements.txt (line 18)) (4.2.4)\n",
            "Requirement already satisfied: pyasn1-modules>=0.2.1 in /usr/local/lib/python3.7/dist-packages (from google-auth<3,>=1.6.3->tensorboard>=2.4.1->-r requirements.txt (line 18)) (0.2.8)\n",
            "Requirement already satisfied: rsa<5,>=3.1.4 in /usr/local/lib/python3.7/dist-packages (from google-auth<3,>=1.6.3->tensorboard>=2.4.1->-r requirements.txt (line 18)) (4.9)\n",
            "Requirement already satisfied: requests-oauthlib>=0.7.0 in /usr/local/lib/python3.7/dist-packages (from google-auth-oauthlib<0.5,>=0.4.1->tensorboard>=2.4.1->-r requirements.txt (line 18)) (1.3.1)\n",
            "Requirement already satisfied: importlib-metadata>=4.4 in /usr/local/lib/python3.7/dist-packages (from markdown>=2.6.8->tensorboard>=2.4.1->-r requirements.txt (line 18)) (4.12.0)\n",
            "Requirement already satisfied: zipp>=0.5 in /usr/local/lib/python3.7/dist-packages (from importlib-metadata>=4.4->markdown>=2.6.8->tensorboard>=2.4.1->-r requirements.txt (line 18)) (3.8.1)\n",
            "Requirement already satisfied: pyasn1<0.5.0,>=0.4.6 in /usr/local/lib/python3.7/dist-packages (from pyasn1-modules>=0.2.1->google-auth<3,>=1.6.3->tensorboard>=2.4.1->-r requirements.txt (line 18)) (0.4.8)\n",
            "Requirement already satisfied: oauthlib>=3.0.0 in /usr/local/lib/python3.7/dist-packages (from requests-oauthlib>=0.7.0->google-auth-oauthlib<0.5,>=0.4.1->tensorboard>=2.4.1->-r requirements.txt (line 18)) (3.2.0)\n",
            "Requirement already satisfied: backcall in /usr/local/lib/python3.7/dist-packages (from ipython->-r requirements.txt (line 38)) (0.2.0)\n",
            "Requirement already satisfied: pexpect in /usr/local/lib/python3.7/dist-packages (from ipython->-r requirements.txt (line 38)) (4.8.0)\n",
            "Requirement already satisfied: prompt-toolkit<2.1.0,>=2.0.0 in /usr/local/lib/python3.7/dist-packages (from ipython->-r requirements.txt (line 38)) (2.0.10)\n",
            "Requirement already satisfied: decorator in /usr/local/lib/python3.7/dist-packages (from ipython->-r requirements.txt (line 38)) (4.4.2)\n",
            "Collecting jedi>=0.10\n",
            "  Downloading jedi-0.18.1-py2.py3-none-any.whl (1.6 MB)\n",
            "\u001b[K     |████████████████████████████████| 1.6 MB 3.6 MB/s \n",
            "\u001b[?25hRequirement already satisfied: traitlets>=4.2 in /usr/local/lib/python3.7/dist-packages (from ipython->-r requirements.txt (line 38)) (5.1.1)\n",
            "Requirement already satisfied: pickleshare in /usr/local/lib/python3.7/dist-packages (from ipython->-r requirements.txt (line 38)) (0.7.5)\n",
            "Requirement already satisfied: pygments in /usr/local/lib/python3.7/dist-packages (from ipython->-r requirements.txt (line 38)) (2.6.1)\n",
            "Requirement already satisfied: parso<0.9.0,>=0.8.0 in /usr/local/lib/python3.7/dist-packages (from jedi>=0.10->ipython->-r requirements.txt (line 38)) (0.8.3)\n",
            "Requirement already satisfied: wcwidth in /usr/local/lib/python3.7/dist-packages (from prompt-toolkit<2.1.0,>=2.0.0->ipython->-r requirements.txt (line 38)) (0.2.5)\n",
            "Requirement already satisfied: ptyprocess>=0.5 in /usr/local/lib/python3.7/dist-packages (from pexpect->ipython->-r requirements.txt (line 38)) (0.7.0)\n",
            "Installing collected packages: jedi, thop\n",
            "Successfully installed jedi-0.18.1 thop-0.1.1.post2209072238\n"
          ]
        }
      ],
      "source": [
        "%cd /content/yolov5\n",
        "!git reset --hard 3cd66b1c3863a8524c6cc564029c29ac783f7310\n",
        "!pip install -r requirements.txt"
      ]
    },
    {
      "cell_type": "code",
      "execution_count": null,
      "metadata": {
        "id": "LQJovMqfCz-6"
      },
      "outputs": [],
      "source": [
        "def generate_folder():\n",
        "  %cd /content\n",
        "  %mkdir dataset\n",
        "  %cd dataset\n",
        "  %mkdir train\n",
        "  %cd train\n",
        "  %mkdir images\n",
        "  %mkdir labels\n",
        "\n",
        "  %cd /content\n",
        "  %cd dataset\n",
        "  %mkdir valid\n",
        "  %cd valid\n",
        "  %mkdir images\n",
        "  %mkdir labels\n",
        "\n",
        "\n",
        ""
      ]
    },
    {
      "cell_type": "code",
      "execution_count": null,
      "metadata": {
        "colab": {
          "base_uri": "https://localhost:8080/"
        },
        "id": "6Ke_n2A0G-PW",
        "outputId": "dc303471-8ecf-4fb7-b713-438d7b30c4e8"
      },
      "outputs": [
        {
          "output_type": "stream",
          "name": "stdout",
          "text": [
            "/content\n",
            "/content/dataset\n",
            "/content/dataset/train\n",
            "/content\n",
            "/content/dataset\n",
            "/content/dataset/valid\n"
          ]
        }
      ],
      "source": [
        "generate_folder()"
      ]
    },
    {
      "cell_type": "code",
      "execution_count": null,
      "metadata": {
        "colab": {
          "base_uri": "https://localhost:8080/"
        },
        "id": "o9Zl69wl0YeR",
        "outputId": "44f7abfd-1bb3-4e71-e9e5-1b59cb86cf47"
      },
      "outputs": [
        {
          "output_type": "stream",
          "name": "stdout",
          "text": [
            "/\n"
          ]
        }
      ],
      "source": [
        "%cd /\n",
        "from glob import glob\n",
        "\n",
        "def make_img_txt_and_fix_class(filepath:str,idx:int):\n",
        "  idx=str(idx)\n",
        "\n",
        "  train_img_list=glob(filepath+\"/train/images/*.jpg\")\n",
        "  train_label_list=glob(filepath+\"/train/labels/*.txt\")\n",
        "\n",
        "  val_img_list=glob(filepath+\"/valid/images/*.jpg\")\n",
        "  val_label_list=glob(filepath+\"/valid/labels/*txt\")\n",
        "\n",
        "  print(\"train datas : \",len(train_label_list),len(train_img_list))\n",
        "  print(\"val datas:\",len(val_label_list),len(val_img_list))\n",
        "\n",
        "  check=0\n",
        "  with open(filepath+\"/train_img.txt\",\"w\") as f:\n",
        "    f.write(\"\\n\".join(train_img_list)+\"\\n\")\n",
        "    check+=1\n",
        "  with open(filepath+\"/val_img.txt\",\"w\") as f:\n",
        "    f.write(\"\\n\".join(val_img_list)+\"\\n\")\n",
        "    check+=1\n",
        "  with open(filepath+\"/train_label.txt\",\"w\") as f:\n",
        "    f.write(\"\\n\".join(train_label_list)+\"\\n\")\n",
        "    check+=1\n",
        "  with open(filepath+\"/val_label.txt\",\"w\") as f:\n",
        "    f.write(\"\\n\".join(val_label_list)+\"\\n\")\n",
        "    check+=1\n",
        "  print(\"generate\",check,\"txt files in\",filepath)\n",
        "\n",
        "  with open(filepath+\"/val_label.txt\",\"r\") as f:\n",
        "    while True:\n",
        "      address=f.readline().rstrip()\n",
        "      if not address:\n",
        "        break\n",
        "      newlines=\"\"\n",
        "      with open(address,\"r\") as file:\n",
        "        while True:\n",
        "          line=file.readline()\n",
        "          if not line:\n",
        "            break\n",
        "          newlines=newlines+idx+line[1:]+\"\\n\"\n",
        "      with open(address,\"w\") as newfile:\n",
        "        newfile.write(newlines.rstrip())\n",
        "\n",
        "  with open(filepath+\"/train_label.txt\",\"r\") as f:\n",
        "    while True:\n",
        "      address=f.readline().rstrip()\n",
        "      if not address:\n",
        "        break\n",
        "      newlines=\"\"\n",
        "      with open(address,\"r\") as file:\n",
        "        while True:\n",
        "          line=file.readline()\n",
        "          if not line:\n",
        "            break\n",
        "          newlines=newlines+idx+line[1:]+\"\\n\"\n",
        "      with open(address,\"w\") as newfile:\n",
        "        newfile.write(newlines.rstrip())"
      ]
    },
    {
      "cell_type": "code",
      "execution_count": null,
      "metadata": {
        "colab": {
          "base_uri": "https://localhost:8080/"
        },
        "id": "pOjek8wrKne1",
        "outputId": "b57f9325-67e5-4bd3-ca53-1df59fa571c3"
      },
      "outputs": [
        {
          "output_type": "stream",
          "name": "stdout",
          "text": [
            "train datas :  1350 1350\n",
            "val datas: 318 318\n",
            "generate 4 txt files in /content/Cigarettes-Detection-13\n",
            "train datas :  1014 1014\n",
            "val datas: 288 288\n",
            "generate 4 txt files in /content/Mouth-States-2-5\n"
          ]
        }
      ],
      "source": [
        "make_img_txt_and_fix_class(smokepath,idx=0)\n",
        "make_img_txt_and_fix_class(mouthpath,idx=1)\n",
        "#make_img_txt_and_fix_class(lighterpath,idx=2)\n",
        "#make_img_txt_and_fix_class(firepath,idx=3)\n"
      ]
    },
    {
      "cell_type": "code",
      "execution_count": null,
      "metadata": {
        "id": "BtXuCPCZDuzz"
      },
      "outputs": [],
      "source": [
        "def merge_train_valid_addressfile(filepaths):\n",
        "  for i in filepaths:\n",
        "    val=i+\"/val_img.txt\"\n",
        "    train=i+\"/train_img.txt\"\n",
        "    with open(\"/content/dataset/val_img.txt\",\"a\") as f:\n",
        "      with open(val,\"r\") as onetxt:\n",
        "        newlines=\"\"\n",
        "        while True:\n",
        "          address=onetxt.readline()\n",
        "          if not address:\n",
        "            break\n",
        "          newlines=newlines+address.rstrip()+\"\\n\"\n",
        "        f.write(newlines)\n",
        "\n",
        "    with open(\"/content/dataset/train_img.txt\",\"a\") as f:\n",
        "      with open(train,\"r\") as onetxt:\n",
        "        newlines=\"\"\n",
        "        while True:\n",
        "          address=onetxt.readline()\n",
        "          if not address:\n",
        "            break\n",
        "          newlines=newlines+address.rstrip()+\"\\n\"\n",
        "        f.write(newlines)\n",
        ""
      ]
    },
    {
      "cell_type": "code",
      "execution_count": null,
      "metadata": {
        "id": "7b0F_vxbK2J7"
      },
      "outputs": [],
      "source": [
        "merge_train_valid_addressfile([mouthpath,smokepath])"
      ]
    },
    {
      "cell_type": "code",
      "execution_count": null,
      "metadata": {
        "id": "VVgyoLfGLF1N"
      },
      "outputs": [],
      "source": [
        "#%mv /content/Mouth-States-2-5/train/images/* /content/dataset/train/images/\n",
        "#%mv /content/Mouth-States-2-5/train/labels/* /content/dataset/train/labels/\n",
        "\n",
        "#%mv /content/Mouth-States-2-5/valid/images/* /content/dataset/train/images/\n",
        "#%mv /content/Mouth-States-2-5/valid/labels/* /content/dataset/train/labels/\n",
        "\n",
        "#%mv /content/smoking-3/train/images/* /content/dataset/train/images/\n",
        "#%mv /content/smoking-3/train/labels/* /content/dataset/train/labels/\n",
        "\n",
        "#%mv /content/smoking-3/valid/images/* /content/dataset/valid/images/\n",
        "#%mv /content/smoking-3/valid/labels/* /content/dataset/valid/labels/\n"
      ]
    },
    {
      "cell_type": "code",
      "execution_count": null,
      "metadata": {
        "id": "BI7FLI2JLQDw"
      },
      "outputs": [],
      "source": []
    },
    {
      "cell_type": "code",
      "execution_count": null,
      "metadata": {
        "colab": {
          "base_uri": "https://localhost:8080/"
        },
        "id": "nF3vEBelBUKs",
        "outputId": "f20caa43-da29-402f-ca3b-10bfea854cb6"
      },
      "outputs": [
        {
          "output_type": "stream",
          "name": "stdout",
          "text": [
            "/content/dataset\n",
            "{'train': '/content/dataset/train_img.txt', 'val': '/content/dataset/val_img.txt', 'names': ['cigarette', 'mouth'], 'nc': 2}\n"
          ]
        }
      ],
      "source": [
        "import yaml\n",
        "%cd /content/dataset\n",
        "data={}\n",
        "data[\"train\"]=\"/content/dataset/train_img.txt\"\n",
        "data[\"val\"]=\"/content/dataset/val_img.txt\"\n",
        "data[\"names\"]=[\"cigarette\",\"mouth\"]\n",
        "data[\"nc\"]=2\n",
        "\n",
        "with open(\"/content/dataset/data.yaml\",\"w\") as f:\n",
        "  yaml.dump(data,f)\n",
        "print(data)"
      ]
    },
    {
      "cell_type": "code",
      "execution_count": null,
      "metadata": {
        "colab": {
          "base_uri": "https://localhost:8080/"
        },
        "id": "AzeZMakgAtxa",
        "outputId": "eb8d8f1a-41a7-47b2-f4de-5a0505802628"
      },
      "outputs": [
        {
          "output_type": "stream",
          "name": "stdout",
          "text": [
            "/content/yolov5\n",
            "\u001b[34m\u001b[1mtrain: \u001b[0mweights=./yolov5s.pt, cfg=./models/yolov5s.yaml, data=/content/dataset/data.yaml, hyp=data/hyps/hyp.scratch-low.yaml, epochs=10, batch_size=16, imgsz=640, rect=False, resume=False, nosave=False, noval=False, noautoanchor=False, noplots=False, evolve=None, bucket=, cache=None, image_weights=False, device=, multi_scale=False, single_cls=False, optimizer=SGD, sync_bn=False, workers=8, project=runs/train, name=detect_smoke, exist_ok=False, quad=False, cos_lr=False, label_smoothing=0.0, patience=100, freeze=[0], save_period=-1, seed=0, local_rank=-1, entity=None, upload_dataset=False, bbox_interval=-1, artifact_alias=latest\n",
            "\u001b[34m\u001b[1mgithub: \u001b[0m⚠️ YOLOv5 is out of date by 11 commits. Use `git pull` or `git clone https://github.com/ultralytics/yolov5` to update.\n",
            "YOLOv5 🚀 v6.2-99-g3cd66b1 Python-3.7.13 torch-1.12.1+cu113 CUDA:0 (Tesla T4, 15110MiB)\n",
            "\n",
            "\u001b[34m\u001b[1mhyperparameters: \u001b[0mlr0=0.01, lrf=0.01, momentum=0.937, weight_decay=0.0005, warmup_epochs=3.0, warmup_momentum=0.8, warmup_bias_lr=0.1, box=0.05, cls=0.5, cls_pw=1.0, obj=1.0, obj_pw=1.0, iou_t=0.2, anchor_t=4.0, fl_gamma=0.0, hsv_h=0.015, hsv_s=0.7, hsv_v=0.4, degrees=0.0, translate=0.1, scale=0.5, shear=0.0, perspective=0.0, flipud=0.0, fliplr=0.5, mosaic=1.0, mixup=0.0, copy_paste=0.0\n",
            "\u001b[34m\u001b[1mWeights & Biases: \u001b[0mrun 'pip install wandb' to automatically track and visualize YOLOv5 🚀 runs in Weights & Biases\n",
            "\u001b[34m\u001b[1mClearML: \u001b[0mrun 'pip install clearml' to automatically track, visualize and remotely train YOLOv5 🚀 in ClearML\n",
            "\u001b[34m\u001b[1mComet: \u001b[0mrun 'pip install comet_ml' to automatically track and visualize YOLOv5 🚀 runs in Comet\n",
            "\u001b[34m\u001b[1mTensorBoard: \u001b[0mStart with 'tensorboard --logdir runs/train', view at http://localhost:6006/\n",
            "Downloading https://ultralytics.com/assets/Arial.ttf to /root/.config/Ultralytics/Arial.ttf...\n",
            "100% 755k/755k [00:00<00:00, 15.5MB/s]\n",
            "Downloading https://github.com/ultralytics/yolov5/releases/download/v6.2/yolov5s.pt to yolov5s.pt...\n",
            "100% 14.1M/14.1M [00:00<00:00, 107MB/s] \n",
            "\n",
            "Overriding model.yaml nc=80 with nc=2\n",
            "\n",
            "                 from  n    params  module                                  arguments                     \n",
            "  0                -1  1      3520  models.common.Conv                      [3, 32, 6, 2, 2]              \n",
            "  1                -1  1     18560  models.common.Conv                      [32, 64, 3, 2]                \n",
            "  2                -1  1     18816  models.common.C3                        [64, 64, 1]                   \n",
            "  3                -1  1     73984  models.common.Conv                      [64, 128, 3, 2]               \n",
            "  4                -1  2    115712  models.common.C3                        [128, 128, 2]                 \n",
            "  5                -1  1    295424  models.common.Conv                      [128, 256, 3, 2]              \n",
            "  6                -1  3    625152  models.common.C3                        [256, 256, 3]                 \n",
            "  7                -1  1   1180672  models.common.Conv                      [256, 512, 3, 2]              \n",
            "  8                -1  1   1182720  models.common.C3                        [512, 512, 1]                 \n",
            "  9                -1  1    656896  models.common.SPPF                      [512, 512, 5]                 \n",
            " 10                -1  1    131584  models.common.Conv                      [512, 256, 1, 1]              \n",
            " 11                -1  1         0  torch.nn.modules.upsampling.Upsample    [None, 2, 'nearest']          \n",
            " 12           [-1, 6]  1         0  models.common.Concat                    [1]                           \n",
            " 13                -1  1    361984  models.common.C3                        [512, 256, 1, False]          \n",
            " 14                -1  1     33024  models.common.Conv                      [256, 128, 1, 1]              \n",
            " 15                -1  1         0  torch.nn.modules.upsampling.Upsample    [None, 2, 'nearest']          \n",
            " 16           [-1, 4]  1         0  models.common.Concat                    [1]                           \n",
            " 17                -1  1     90880  models.common.C3                        [256, 128, 1, False]          \n",
            " 18                -1  1    147712  models.common.Conv                      [128, 128, 3, 2]              \n",
            " 19          [-1, 14]  1         0  models.common.Concat                    [1]                           \n",
            " 20                -1  1    296448  models.common.C3                        [256, 256, 1, False]          \n",
            " 21                -1  1    590336  models.common.Conv                      [256, 256, 3, 2]              \n",
            " 22          [-1, 10]  1         0  models.common.Concat                    [1]                           \n",
            " 23                -1  1   1182720  models.common.C3                        [512, 512, 1, False]          \n",
            " 24      [17, 20, 23]  1     18879  models.yolo.Detect                      [2, [[10, 13, 16, 30, 33, 23], [30, 61, 62, 45, 59, 119], [116, 90, 156, 198, 373, 326]], [128, 256, 512]]\n",
            "YOLOv5s summary: 270 layers, 7025023 parameters, 7025023 gradients, 16.0 GFLOPs\n",
            "\n",
            "Transferred 342/349 items from yolov5s.pt\n",
            "\u001b[34m\u001b[1mAMP: \u001b[0mchecks passed ✅\n",
            "\u001b[34m\u001b[1moptimizer:\u001b[0m SGD(lr=0.01) with parameter groups 57 weight(decay=0.0), 60 weight(decay=0.0005), 60 bias\n",
            "\u001b[34m\u001b[1malbumentations: \u001b[0mBlur(p=0.01, blur_limit=(3, 7)), MedianBlur(p=0.01, blur_limit=(3, 7)), ToGray(p=0.01), CLAHE(p=0.01, clip_limit=(1, 4.0), tile_grid_size=(8, 8))\n",
            "\u001b[34m\u001b[1mtrain: \u001b[0mScanning '/content/dataset/train_img' images and labels...2364 found, 0 missing, 262 empty, 0 corrupt: 100% 2364/2364 [00:01<00:00, 2156.47it/s]\n",
            "\u001b[34m\u001b[1mtrain: \u001b[0mNew cache created: /content/dataset/train_img.cache\n",
            "\u001b[34m\u001b[1mval: \u001b[0mScanning '/content/dataset/val_img' images and labels...606 found, 0 missing, 0 empty, 0 corrupt: 100% 606/606 [00:00<00:00, 901.32it/s]\n",
            "\u001b[34m\u001b[1mval: \u001b[0mNew cache created: /content/dataset/val_img.cache\n",
            "\n",
            "\u001b[34m\u001b[1mAutoAnchor: \u001b[0m5.36 anchors/target, 1.000 Best Possible Recall (BPR). Current anchors are a good fit to dataset ✅\n",
            "Plotting labels to runs/train/detect_smoke/labels.jpg... \n",
            "Image sizes 640 train, 640 val\n",
            "Using 2 dataloader workers\n",
            "Logging results to \u001b[1mruns/train/detect_smoke\u001b[0m\n",
            "Starting training for 10 epochs...\n",
            "\n",
            "      Epoch    GPU_mem   box_loss   obj_loss   cls_loss  Instances       Size\n",
            "        0/9      4.68G    0.09432    0.01988    0.01593         18        640: 100% 148/148 [01:10<00:00,  2.09it/s]\n",
            "                 Class     Images  Instances          P          R     mAP@.5 mAP@.5:.95: 100% 19/19 [00:11<00:00,  1.68it/s]\n",
            "                   all        606        607      0.313      0.296      0.227     0.0634\n",
            "\n",
            "      Epoch    GPU_mem   box_loss   obj_loss   cls_loss  Instances       Size\n",
            "        1/9       4.7G     0.0661    0.01496   0.003021         25        640: 100% 148/148 [00:59<00:00,  2.51it/s]\n",
            "                 Class     Images  Instances          P          R     mAP@.5 mAP@.5:.95: 100% 19/19 [00:06<00:00,  3.06it/s]\n",
            "                   all        606        607      0.492      0.585      0.494      0.208\n",
            "\n",
            "      Epoch    GPU_mem   box_loss   obj_loss   cls_loss  Instances       Size\n",
            "        2/9       4.7G    0.05638    0.01239   0.002616         15        640: 100% 148/148 [00:59<00:00,  2.50it/s]\n",
            "                 Class     Images  Instances          P          R     mAP@.5 mAP@.5:.95: 100% 19/19 [00:06<00:00,  2.92it/s]\n",
            "                   all        606        607      0.637      0.689      0.672      0.237\n",
            "\n",
            "      Epoch    GPU_mem   box_loss   obj_loss   cls_loss  Instances       Size\n",
            "        3/9       4.7G    0.05032    0.01047   0.002198         17        640: 100% 148/148 [00:59<00:00,  2.50it/s]\n",
            "                 Class     Images  Instances          P          R     mAP@.5 mAP@.5:.95: 100% 19/19 [00:05<00:00,  3.20it/s]\n",
            "                   all        606        607      0.776      0.743      0.748      0.354\n",
            "\n",
            "      Epoch    GPU_mem   box_loss   obj_loss   cls_loss  Instances       Size\n",
            "        4/9       4.7G    0.04475   0.009447   0.001497         16        640: 100% 148/148 [00:58<00:00,  2.51it/s]\n",
            "                 Class     Images  Instances          P          R     mAP@.5 mAP@.5:.95: 100% 19/19 [00:06<00:00,  2.99it/s]\n",
            "                   all        606        607      0.783      0.773      0.769      0.423\n",
            "\n",
            "      Epoch    GPU_mem   box_loss   obj_loss   cls_loss  Instances       Size\n",
            "        5/9       4.7G    0.04079    0.00883   0.001139         24        640: 100% 148/148 [00:58<00:00,  2.54it/s]\n",
            "                 Class     Images  Instances          P          R     mAP@.5 mAP@.5:.95: 100% 19/19 [00:06<00:00,  3.06it/s]\n",
            "                   all        606        607      0.797      0.787      0.773       0.44\n",
            "\n",
            "      Epoch    GPU_mem   box_loss   obj_loss   cls_loss  Instances       Size\n",
            "        6/9       4.7G    0.03747    0.00809  0.0009643         17        640: 100% 148/148 [00:58<00:00,  2.51it/s]\n",
            "                 Class     Images  Instances          P          R     mAP@.5 mAP@.5:.95: 100% 19/19 [00:06<00:00,  3.04it/s]\n",
            "                   all        606        607      0.898      0.828      0.856      0.492\n",
            "\n",
            "      Epoch    GPU_mem   box_loss   obj_loss   cls_loss  Instances       Size\n",
            "        7/9       4.7G    0.03494   0.008008  0.0007398         16        640: 100% 148/148 [00:59<00:00,  2.50it/s]\n",
            "                 Class     Images  Instances          P          R     mAP@.5 mAP@.5:.95: 100% 19/19 [00:06<00:00,  3.15it/s]\n",
            "                   all        606        607       0.87      0.842      0.875      0.508\n",
            "\n",
            "      Epoch    GPU_mem   box_loss   obj_loss   cls_loss  Instances       Size\n",
            "        8/9       4.7G     0.0322   0.007387   0.000534         19        640: 100% 148/148 [00:58<00:00,  2.53it/s]\n",
            "                 Class     Images  Instances          P          R     mAP@.5 mAP@.5:.95: 100% 19/19 [00:06<00:00,  3.08it/s]\n",
            "                   all        606        607      0.885      0.862      0.881      0.542\n",
            "\n",
            "      Epoch    GPU_mem   box_loss   obj_loss   cls_loss  Instances       Size\n",
            "        9/9       4.7G    0.03046   0.007179  0.0004513         19        640: 100% 148/148 [00:58<00:00,  2.53it/s]\n",
            "                 Class     Images  Instances          P          R     mAP@.5 mAP@.5:.95: 100% 19/19 [00:06<00:00,  3.14it/s]\n",
            "                   all        606        607      0.909      0.857      0.891      0.545\n",
            "\n",
            "10 epochs completed in 0.187 hours.\n",
            "Optimizer stripped from runs/train/detect_smoke/weights/last.pt, 14.5MB\n",
            "Optimizer stripped from runs/train/detect_smoke/weights/best.pt, 14.5MB\n",
            "\n",
            "Validating runs/train/detect_smoke/weights/best.pt...\n",
            "Fusing layers... \n",
            "YOLOv5s summary: 213 layers, 7015519 parameters, 0 gradients, 15.8 GFLOPs\n",
            "                 Class     Images  Instances          P          R     mAP@.5 mAP@.5:.95: 100% 19/19 [00:07<00:00,  2.62it/s]\n",
            "                   all        606        607      0.909       0.86       0.89      0.545\n",
            "             cigarette        606        319      0.824      0.719      0.786       0.35\n",
            "                 mouth        606        288      0.994          1      0.995       0.74\n",
            "Results saved to \u001b[1mruns/train/detect_smoke\u001b[0m\n"
          ]
        }
      ],
      "source": [
        "%cd /content/yolov5\n",
        "!python train.py --img 640 --batch 16 --epochs 10 --data /content/dataset/data.yaml --cfg ./models/yolov5s.yaml --weights ./yolov5s.pt --name detect_smoke"
      ]
    },
    {
      "cell_type": "code",
      "execution_count": null,
      "metadata": {
        "id": "lmr2fxnXIeXo"
      },
      "outputs": [],
      "source": []
    },
    {
      "cell_type": "code",
      "execution_count": null,
      "metadata": {
        "id": "yuojY4hbQbeb"
      },
      "outputs": [],
      "source": [
        "#!python detect.py --weights ./runs/train/detect_smoke/weights/best.pt --img 640 --conf 0.5 --source https://www.youtube.com/watch?v=sxVhc54kFl0"
      ]
    },
    {
      "cell_type": "code",
      "execution_count": null,
      "metadata": {
        "colab": {
          "base_uri": "https://localhost:8080/",
          "height": 1000
        },
        "id": "VNcx2PBvbZqV",
        "outputId": "de9d519b-8bb0-47ff-c36a-3af1cbf89ed9"
      },
      "outputs": [
        {
          "output_type": "stream",
          "name": "stdout",
          "text": [
            "  adding: content/yolov5/ (stored 0%)\n",
            "  adding: content/yolov5/hubconf.py (deflated 72%)\n",
            "  adding: content/yolov5/.github/ (stored 0%)\n",
            "  adding: content/yolov5/.github/dependabot.yml (deflated 60%)\n",
            "  adding: content/yolov5/.github/workflows/ (stored 0%)\n",
            "  adding: content/yolov5/.github/workflows/stale.yml (deflated 59%)\n",
            "  adding: content/yolov5/.github/workflows/codeql-analysis.yml (deflated 52%)\n",
            "  adding: content/yolov5/.github/workflows/greetings.yml (deflated 61%)\n",
            "  adding: content/yolov5/.github/workflows/ci-testing.yml (deflated 70%)\n",
            "  adding: content/yolov5/.github/workflows/docker.yml (deflated 66%)\n",
            "  adding: content/yolov5/.github/README_cn.md (deflated 75%)\n",
            "  adding: content/yolov5/.github/CODE_OF_CONDUCT.md (deflated 60%)\n",
            "  adding: content/yolov5/.github/PULL_REQUEST_TEMPLATE.md (deflated 40%)\n",
            "  adding: content/yolov5/.github/SECURITY.md (deflated 33%)\n",
            "  adding: content/yolov5/.github/ISSUE_TEMPLATE/ (stored 0%)\n",
            "  adding: content/yolov5/.github/ISSUE_TEMPLATE/bug-report.yml (deflated 59%)\n",
            "  adding: content/yolov5/.github/ISSUE_TEMPLATE/feature-request.yml (deflated 61%)\n",
            "  adding: content/yolov5/.github/ISSUE_TEMPLATE/question.yml (deflated 57%)\n",
            "  adding: content/yolov5/.github/ISSUE_TEMPLATE/config.yml (deflated 36%)\n",
            "  adding: content/yolov5/LICENSE (deflated 66%)\n",
            "  adding: content/yolov5/.gitignore (deflated 55%)\n",
            "  adding: content/yolov5/utils/ (stored 0%)\n",
            "  adding: content/yolov5/utils/google_app_engine/ (stored 0%)\n",
            "  adding: content/yolov5/utils/google_app_engine/Dockerfile (deflated 47%)\n",
            "  adding: content/yolov5/utils/google_app_engine/app.yaml (deflated 26%)\n",
            "  adding: content/yolov5/utils/google_app_engine/additional_requirements.txt (deflated 10%)\n",
            "  adding: content/yolov5/utils/flask_rest_api/ (stored 0%)\n",
            "  adding: content/yolov5/utils/flask_rest_api/README.md (deflated 52%)\n",
            "  adding: content/yolov5/utils/flask_rest_api/example_request.py (deflated 26%)\n",
            "  adding: content/yolov5/utils/flask_rest_api/restapi.py (deflated 48%)\n",
            "  adding: content/yolov5/utils/autobatch.py (deflated 55%)\n",
            "  adding: content/yolov5/utils/loss.py (deflated 69%)\n",
            "  adding: content/yolov5/utils/docker/ (stored 0%)\n",
            "  adding: content/yolov5/utils/docker/Dockerfile-cpu (deflated 52%)\n",
            "  adding: content/yolov5/utils/docker/Dockerfile-arm64 (deflated 51%)\n",
            "  adding: content/yolov5/utils/docker/Dockerfile (deflated 55%)\n",
            "  adding: content/yolov5/utils/plots.py (deflated 65%)\n",
            "  adding: content/yolov5/utils/benchmarks.py (deflated 68%)\n",
            "  adding: content/yolov5/utils/general.py (deflated 65%)\n",
            "  adding: content/yolov5/utils/__init__.py (deflated 52%)\n",
            "  adding: content/yolov5/utils/torch_utils.py (deflated 64%)\n",
            "  adding: content/yolov5/utils/callbacks.py (deflated 68%)\n",
            "  adding: content/yolov5/utils/activations.py (deflated 68%)\n",
            "  adding: content/yolov5/utils/dataloaders.py (deflated 71%)\n",
            "  adding: content/yolov5/utils/metrics.py (deflated 66%)\n",
            "  adding: content/yolov5/utils/loggers/ (stored 0%)\n",
            "  adding: content/yolov5/utils/loggers/clearml/ (stored 0%)\n",
            "  adding: content/yolov5/utils/loggers/clearml/clearml_utils.py (deflated 65%)\n",
            "  adding: content/yolov5/utils/loggers/clearml/hpo.py (deflated 71%)\n",
            "  adding: content/yolov5/utils/loggers/clearml/README.md (deflated 59%)\n",
            "  adding: content/yolov5/utils/loggers/clearml/__init__.py (stored 0%)\n",
            "  adding: content/yolov5/utils/loggers/clearml/__pycache__/ (stored 0%)\n",
            "  adding: content/yolov5/utils/loggers/clearml/__pycache__/clearml_utils.cpython-37.pyc (deflated 44%)\n",
            "  adding: content/yolov5/utils/loggers/clearml/__pycache__/__init__.cpython-37.pyc (deflated 21%)\n",
            "  adding: content/yolov5/utils/loggers/__init__.py (deflated 73%)\n",
            "  adding: content/yolov5/utils/loggers/comet/ (stored 0%)\n",
            "  adding: content/yolov5/utils/loggers/comet/comet_utils.py (deflated 69%)\n",
            "  adding: content/yolov5/utils/loggers/comet/hpo.py (deflated 68%)\n",
            "  adding: content/yolov5/utils/loggers/comet/README.md (deflated 64%)\n",
            "  adding: content/yolov5/utils/loggers/comet/__init__.py (deflated 74%)\n",
            "  adding: content/yolov5/utils/loggers/comet/__pycache__/ (stored 0%)\n",
            "  adding: content/yolov5/utils/loggers/comet/__pycache__/comet_utils.cpython-37.pyc (deflated 47%)\n",
            "  adding: content/yolov5/utils/loggers/comet/__pycache__/__init__.cpython-37.pyc (deflated 51%)\n",
            "  adding: content/yolov5/utils/loggers/comet/optimizer_config.json (deflated 85%)\n",
            "  adding: content/yolov5/utils/loggers/wandb/ (stored 0%)\n",
            "  adding: content/yolov5/utils/loggers/wandb/README.md (deflated 62%)\n",
            "  adding: content/yolov5/utils/loggers/wandb/__init__.py (stored 0%)\n",
            "  adding: content/yolov5/utils/loggers/wandb/sweep.yaml (deflated 73%)\n",
            "  adding: content/yolov5/utils/loggers/wandb/log_dataset.py (deflated 52%)\n",
            "  adding: content/yolov5/utils/loggers/wandb/sweep.py (deflated 53%)\n",
            "  adding: content/yolov5/utils/loggers/wandb/__pycache__/ (stored 0%)\n",
            "  adding: content/yolov5/utils/loggers/wandb/__pycache__/wandb_utils.cpython-37.pyc (deflated 52%)\n",
            "  adding: content/yolov5/utils/loggers/wandb/__pycache__/__init__.cpython-37.pyc (deflated 22%)\n",
            "  adding: content/yolov5/utils/loggers/wandb/wandb_utils.py (deflated 75%)\n",
            "  adding: content/yolov5/utils/loggers/__pycache__/ (stored 0%)\n",
            "  adding: content/yolov5/utils/loggers/__pycache__/__init__.cpython-37.pyc (deflated 51%)\n",
            "  adding: content/yolov5/utils/autoanchor.py (deflated 60%)\n",
            "  adding: content/yolov5/utils/aws/ (stored 0%)\n",
            "  adding: content/yolov5/utils/aws/__init__.py (stored 0%)\n",
            "  adding: content/yolov5/utils/aws/resume.py (deflated 46%)\n",
            "  adding: content/yolov5/utils/aws/userdata.sh (deflated 47%)\n",
            "  adding: content/yolov5/utils/aws/mime.sh (deflated 46%)\n",
            "  adding: content/yolov5/utils/__pycache__/ (stored 0%)\n",
            "  adding: content/yolov5/utils/__pycache__/general.cpython-37.pyc (deflated 50%)\n",
            "  adding: content/yolov5/utils/__pycache__/callbacks.cpython-37.pyc (deflated 54%)\n",
            "  adding: content/yolov5/utils/__pycache__/dataloaders.cpython-37.pyc (deflated 50%)\n",
            "  adding: content/yolov5/utils/__pycache__/loss.cpython-37.pyc (deflated 47%)\n",
            "  adding: content/yolov5/utils/__pycache__/plots.cpython-37.pyc (deflated 46%)\n",
            "  adding: content/yolov5/utils/__pycache__/downloads.cpython-37.pyc (deflated 42%)\n",
            "  adding: content/yolov5/utils/__pycache__/autoanchor.cpython-37.pyc (deflated 42%)\n",
            "  adding: content/yolov5/utils/__pycache__/torch_utils.cpython-37.pyc (deflated 45%)\n",
            "  adding: content/yolov5/utils/__pycache__/augmentations.cpython-37.pyc (deflated 48%)\n",
            "  adding: content/yolov5/utils/__pycache__/autobatch.cpython-37.pyc (deflated 34%)\n",
            "  adding: content/yolov5/utils/__pycache__/metrics.cpython-37.pyc (deflated 47%)\n",
            "  adding: content/yolov5/utils/__pycache__/__init__.cpython-37.pyc (deflated 39%)\n",
            "  adding: content/yolov5/utils/augmentations.py (deflated 66%)\n",
            "  adding: content/yolov5/utils/downloads.py (deflated 65%)\n",
            "  adding: content/yolov5/.pre-commit-config.yaml (deflated 60%)\n",
            "  adding: content/yolov5/README.md (deflated 79%)\n",
            "  adding: content/yolov5/yolov5s.pt (deflated 9%)\n",
            "  adding: content/yolov5/runs/ (stored 0%)\n",
            "  adding: content/yolov5/runs/train/ (stored 0%)\n",
            "  adding: content/yolov5/runs/train/detect_smoke/ (stored 0%)\n",
            "  adding: content/yolov5/runs/train/detect_smoke/val_batch0_pred.jpg (deflated 7%)\n",
            "  adding: content/yolov5/runs/train/detect_smoke/hyp.yaml (deflated 45%)\n",
            "  adding: content/yolov5/runs/train/detect_smoke/train_batch0.jpg (deflated 2%)\n",
            "  adding: content/yolov5/runs/train/detect_smoke/confusion_matrix.png (deflated 34%)\n",
            "  adding: content/yolov5/runs/train/detect_smoke/events.out.tfevents.1663222999.a00c9ad1614d.210.0 (deflated 34%)\n",
            "  adding: content/yolov5/runs/train/detect_smoke/labels.jpg (deflated 22%)\n",
            "  adding: content/yolov5/runs/train/detect_smoke/weights/ (stored 0%)\n",
            "  adding: content/yolov5/runs/train/detect_smoke/weights/last.pt (deflated 9%)\n",
            "  adding: content/yolov5/runs/train/detect_smoke/weights/best.pt (deflated 9%)\n",
            "  adding: content/yolov5/runs/train/detect_smoke/PR_curve.png (deflated 13%)\n",
            "  adding: content/yolov5/runs/train/detect_smoke/opt.yaml (deflated 50%)\n",
            "  adding: content/yolov5/runs/train/detect_smoke/F1_curve.png (deflated 9%)\n",
            "  adding: content/yolov5/runs/train/detect_smoke/results.png (deflated 9%)\n",
            "  adding: content/yolov5/runs/train/detect_smoke/train_batch1.jpg (deflated 3%)\n",
            "  adding: content/yolov5/runs/train/detect_smoke/results.csv (deflated 80%)\n",
            "  adding: content/yolov5/runs/train/detect_smoke/val_batch0_labels.jpg (deflated 7%)\n",
            "  adding: content/yolov5/runs/train/detect_smoke/labels_correlogram.jpg (deflated 25%)\n",
            "  adding: content/yolov5/runs/train/detect_smoke/val_batch1_labels.jpg (deflated 7%)\n",
            "  adding: content/yolov5/runs/train/detect_smoke/val_batch2_pred.jpg (deflated 7%)\n",
            "  adding: content/yolov5/runs/train/detect_smoke/P_curve.png (deflated 12%)\n",
            "  adding: content/yolov5/runs/train/detect_smoke/val_batch2_labels.jpg (deflated 7%)\n",
            "  adding: content/yolov5/runs/train/detect_smoke/R_curve.png (deflated 10%)\n",
            "  adding: content/yolov5/runs/train/detect_smoke/val_batch1_pred.jpg (deflated 7%)\n",
            "  adding: content/yolov5/runs/train/detect_smoke/train_batch2.jpg (deflated 3%)\n",
            "  adding: content/yolov5/setup.cfg (deflated 46%)\n",
            "  adding: content/yolov5/tutorial.ipynb (deflated 78%)\n",
            "  adding: content/yolov5/data/ (stored 0%)\n",
            "  adding: content/yolov5/data/Argoverse.yaml (deflated 55%)\n",
            "  adding: content/yolov5/data/hyps/ (stored 0%)\n",
            "  adding: content/yolov5/data/hyps/hyp.scratch-med.yaml (deflated 53%)\n",
            "  adding: content/yolov5/data/hyps/hyp.scratch-low.yaml (deflated 54%)\n",
            "  adding: content/yolov5/data/hyps/hyp.Objects365.yaml (deflated 40%)\n",
            "  adding: content/yolov5/data/hyps/hyp.scratch-high.yaml (deflated 53%)\n",
            "  adding: content/yolov5/data/hyps/hyp.VOC.yaml (deflated 48%)\n",
            "  adding: content/yolov5/data/SKU-110K.yaml (deflated 52%)\n",
            "  adding: content/yolov5/data/images/ (stored 0%)\n",
            "  adding: content/yolov5/data/images/zidane.jpg (deflated 0%)\n",
            "  adding: content/yolov5/data/images/bus.jpg (deflated 1%)\n",
            "  adding: content/yolov5/data/VisDrone.yaml (deflated 59%)\n",
            "  adding: content/yolov5/data/scripts/ (stored 0%)\n",
            "  adding: content/yolov5/data/scripts/get_imagenet.sh (deflated 53%)\n",
            "  adding: content/yolov5/data/scripts/get_coco.sh (deflated 60%)\n",
            "  adding: content/yolov5/data/scripts/download_weights.sh (deflated 39%)\n",
            "  adding: content/yolov5/data/scripts/get_coco128.sh (deflated 36%)\n",
            "  adding: content/yolov5/data/VOC.yaml (deflated 55%)\n",
            "  adding: content/yolov5/data/Objects365.yaml (deflated 53%)\n",
            "  adding: content/yolov5/data/coco.yaml (deflated 49%)\n",
            "  adding: content/yolov5/data/coco128.yaml (deflated 47%)\n",
            "  adding: content/yolov5/data/ImageNet.yaml (deflated 54%)\n",
            "  adding: content/yolov5/data/xView.yaml (deflated 57%)\n",
            "  adding: content/yolov5/data/GlobalWheat2020.yaml (deflated 54%)\n",
            "  adding: content/yolov5/.git/ (stored 0%)\n",
            "  adding: content/yolov5/.git/info/ (stored 0%)\n",
            "  adding: content/yolov5/.git/info/exclude (deflated 28%)\n",
            "  adding: content/yolov5/.git/index (deflated 54%)\n",
            "  adding: content/yolov5/.git/HEAD (stored 0%)\n",
            "  adding: content/yolov5/.git/FETCH_HEAD (deflated 67%)\n",
            "  adding: content/yolov5/.git/branches/ (stored 0%)\n",
            "  adding: content/yolov5/.git/objects/ (stored 0%)\n",
            "  adding: content/yolov5/.git/objects/info/ (stored 0%)\n",
            "  adding: content/yolov5/.git/objects/pack/ (stored 0%)\n",
            "  adding: content/yolov5/.git/objects/pack/pack-99b04f74b664c12aa3d487f8ac3c5d0df5d167d8.pack (deflated 2%)\n",
            "  adding: content/yolov5/.git/objects/pack/pack-99b04f74b664c12aa3d487f8ac3c5d0df5d167d8.idx (deflated 2%)\n",
            "  adding: content/yolov5/.git/hooks/ (stored 0%)\n",
            "  adding: content/yolov5/.git/hooks/pre-receive.sample (deflated 40%)\n",
            "  adding: content/yolov5/.git/hooks/prepare-commit-msg.sample (deflated 50%)\n",
            "  adding: content/yolov5/.git/hooks/applypatch-msg.sample (deflated 42%)\n",
            "  adding: content/yolov5/.git/hooks/pre-rebase.sample (deflated 59%)\n",
            "  adding: content/yolov5/.git/hooks/commit-msg.sample (deflated 44%)\n",
            "  adding: content/yolov5/.git/hooks/post-update.sample (deflated 27%)\n",
            "  adding: content/yolov5/.git/hooks/update.sample (deflated 68%)\n",
            "  adding: content/yolov5/.git/hooks/fsmonitor-watchman.sample (deflated 53%)\n",
            "  adding: content/yolov5/.git/hooks/pre-commit.sample (deflated 43%)\n",
            "  adding: content/yolov5/.git/hooks/pre-push.sample (deflated 50%)\n",
            "  adding: content/yolov5/.git/hooks/pre-applypatch.sample (deflated 38%)\n",
            "  adding: content/yolov5/.git/refs/ (stored 0%)\n",
            "  adding: content/yolov5/.git/refs/tags/ (stored 0%)\n",
            "  adding: content/yolov5/.git/refs/remotes/ (stored 0%)\n",
            "  adding: content/yolov5/.git/refs/remotes/origin/ (stored 0%)\n",
            "  adding: content/yolov5/.git/refs/remotes/origin/HEAD (stored 0%)\n",
            "  adding: content/yolov5/.git/refs/heads/ (stored 0%)\n",
            "  adding: content/yolov5/.git/refs/heads/master (stored 0%)\n",
            "  adding: content/yolov5/.git/description (deflated 14%)\n",
            "  adding: content/yolov5/.git/logs/ (stored 0%)\n",
            "  adding: content/yolov5/.git/logs/HEAD (deflated 52%)\n",
            "  adding: content/yolov5/.git/logs/refs/ (stored 0%)\n",
            "  adding: content/yolov5/.git/logs/refs/remotes/ (stored 0%)\n",
            "  adding: content/yolov5/.git/logs/refs/remotes/origin/ (stored 0%)\n",
            "  adding: content/yolov5/.git/logs/refs/remotes/origin/HEAD (deflated 28%)\n",
            "  adding: content/yolov5/.git/logs/refs/heads/ (stored 0%)\n",
            "  adding: content/yolov5/.git/logs/refs/heads/master (deflated 52%)\n",
            "  adding: content/yolov5/.git/packed-refs (deflated 51%)\n",
            "  adding: content/yolov5/.git/config (deflated 33%)\n",
            "  adding: content/yolov5/.git/ORIG_HEAD (stored 0%)\n",
            "  adding: content/yolov5/CONTRIBUTING.md (deflated 56%)\n",
            "  adding: content/yolov5/.dockerignore (deflated 56%)\n",
            "  adding: content/yolov5/val.py (deflated 67%)\n",
            "  adding: content/yolov5/requirements.txt (deflated 50%)\n",
            "  adding: content/yolov5/.gitattributes (deflated 4%)\n",
            "  adding: content/yolov5/models/ (stored 0%)\n",
            "  adding: content/yolov5/models/yolov5s.yaml (deflated 60%)\n",
            "  adding: content/yolov5/models/hub/ (stored 0%)\n",
            "  adding: content/yolov5/models/hub/anchors.yaml (deflated 72%)\n",
            "  adding: content/yolov5/models/hub/yolov5-p2.yaml (deflated 66%)\n",
            "  adding: content/yolov5/models/hub/yolov5s-transformer.yaml (deflated 60%)\n",
            "  adding: content/yolov5/models/hub/yolov5m6.yaml (deflated 65%)\n",
            "  adding: content/yolov5/models/hub/yolov5-bifpn.yaml (deflated 60%)\n",
            "  adding: content/yolov5/models/hub/yolov5-p7.yaml (deflated 69%)\n",
            "  adding: content/yolov5/models/hub/yolov3.yaml (deflated 63%)\n",
            "  adding: content/yolov5/models/hub/yolov5-panet.yaml (deflated 60%)\n",
            "  adding: content/yolov5/models/hub/yolov3-tiny.yaml (deflated 60%)\n",
            "  adding: content/yolov5/models/hub/yolov3-spp.yaml (deflated 63%)\n",
            "  adding: content/yolov5/models/hub/yolov5l6.yaml (deflated 65%)\n",
            "  adding: content/yolov5/models/hub/yolov5-fpn.yaml (deflated 57%)\n",
            "  adding: content/yolov5/models/hub/yolov5s6.yaml (deflated 65%)\n",
            "  adding: content/yolov5/models/hub/yolov5s-ghost.yaml (deflated 62%)\n",
            "  adding: content/yolov5/models/hub/yolov5x6.yaml (deflated 65%)\n",
            "  adding: content/yolov5/models/hub/yolov5-p6.yaml (deflated 66%)\n",
            "  adding: content/yolov5/models/hub/yolov5-p34.yaml (deflated 62%)\n",
            "  adding: content/yolov5/models/hub/yolov5n6.yaml (deflated 65%)\n",
            "  adding: content/yolov5/models/yolo.py (deflated 65%)\n",
            "  adding: content/yolov5/models/yolov5m.yaml (deflated 60%)\n",
            "  adding: content/yolov5/models/tf.py (deflated 73%)\n",
            "  adding: content/yolov5/models/common.py (deflated 72%)\n",
            "  adding: content/yolov5/models/__init__.py (stored 0%)\n",
            "  adding: content/yolov5/models/yolov5n.yaml (deflated 60%)\n",
            "  adding: content/yolov5/models/__pycache__/ (stored 0%)\n",
            "  adding: content/yolov5/models/__pycache__/experimental.cpython-37.pyc (deflated 45%)\n",
            "  adding: content/yolov5/models/__pycache__/common.cpython-37.pyc (deflated 57%)\n",
            "  adding: content/yolov5/models/__pycache__/yolo.cpython-37.pyc (deflated 47%)\n",
            "  adding: content/yolov5/models/__pycache__/__init__.cpython-37.pyc (deflated 26%)\n",
            "  adding: content/yolov5/models/experimental.py (deflated 59%)\n",
            "  adding: content/yolov5/models/yolov5l.yaml (deflated 61%)\n",
            "  adding: content/yolov5/models/yolov5x.yaml (deflated 60%)\n",
            "  adding: content/yolov5/train.py (deflated 69%)\n",
            "  adding: content/yolov5/detect.py (deflated 68%)\n",
            "  adding: content/yolov5/__pycache__/ (stored 0%)\n",
            "  adding: content/yolov5/__pycache__/val.cpython-37.pyc (deflated 43%)\n",
            "  adding: content/yolov5/classify/ (stored 0%)\n",
            "  adding: content/yolov5/classify/predict.py (deflated 68%)\n",
            "  adding: content/yolov5/classify/val.py (deflated 65%)\n",
            "  adding: content/yolov5/classify/train.py (deflated 66%)\n",
            "  adding: content/yolov5/export.py (deflated 71%)\n"
          ]
        },
        {
          "output_type": "display_data",
          "data": {
            "text/plain": [
              "<IPython.core.display.Javascript object>"
            ],
            "application/javascript": [
              "\n",
              "    async function download(id, filename, size) {\n",
              "      if (!google.colab.kernel.accessAllowed) {\n",
              "        return;\n",
              "      }\n",
              "      const div = document.createElement('div');\n",
              "      const label = document.createElement('label');\n",
              "      label.textContent = `Downloading \"${filename}\": `;\n",
              "      div.appendChild(label);\n",
              "      const progress = document.createElement('progress');\n",
              "      progress.max = size;\n",
              "      div.appendChild(progress);\n",
              "      document.body.appendChild(div);\n",
              "\n",
              "      const buffers = [];\n",
              "      let downloaded = 0;\n",
              "\n",
              "      const channel = await google.colab.kernel.comms.open(id);\n",
              "      // Send a message to notify the kernel that we're ready.\n",
              "      channel.send({})\n",
              "\n",
              "      for await (const message of channel.messages) {\n",
              "        // Send a message to notify the kernel that we're ready.\n",
              "        channel.send({})\n",
              "        if (message.buffers) {\n",
              "          for (const buffer of message.buffers) {\n",
              "            buffers.push(buffer);\n",
              "            downloaded += buffer.byteLength;\n",
              "            progress.value = downloaded;\n",
              "          }\n",
              "        }\n",
              "      }\n",
              "      const blob = new Blob(buffers, {type: 'application/binary'});\n",
              "      const a = document.createElement('a');\n",
              "      a.href = window.URL.createObjectURL(blob);\n",
              "      a.download = filename;\n",
              "      div.appendChild(a);\n",
              "      a.click();\n",
              "      div.remove();\n",
              "    }\n",
              "  "
            ]
          },
          "metadata": {}
        },
        {
          "output_type": "display_data",
          "data": {
            "text/plain": [
              "<IPython.core.display.Javascript object>"
            ],
            "application/javascript": [
              "download(\"download_253e12c6-b555-4e49-a6d6-66fb3121fd32\", \"yolov5_epoch200.zip\", 60466539)"
            ]
          },
          "metadata": {}
        }
      ],
      "source": [
        "from google.colab import files\n",
        "!zip -r /content/yolov5_epoch200.zip /content/yolov5\n",
        "files.download('/content/yolov5_epoch200.zip')"
      ]
    },
    {
      "cell_type": "code",
      "execution_count": null,
      "metadata": {
        "id": "qrTQTHiBMD2t"
      },
      "outputs": [],
      "source": []
    }
  ],
  "metadata": {
    "accelerator": "GPU",
    "colab": {
      "provenance": []
    },
    "gpuClass": "standard",
    "kernelspec": {
      "display_name": "Python 3",
      "name": "python3"
    },
    "language_info": {
      "name": "python"
    }
  },
  "nbformat": 4,
  "nbformat_minor": 0
}